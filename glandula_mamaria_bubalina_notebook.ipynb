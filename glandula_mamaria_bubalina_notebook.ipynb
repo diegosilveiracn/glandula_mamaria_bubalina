{
  "nbformat": 4,
  "nbformat_minor": 0,
  "metadata": {
    "kernelspec": {
      "display_name": "Python 3",
      "language": "python",
      "name": "python3"
    },
    "language_info": {
      "codemirror_mode": {
        "name": "ipython",
        "version": 3
      },
      "file_extension": ".py",
      "mimetype": "text/x-python",
      "name": "python",
      "nbconvert_exporter": "python",
      "pygments_lexer": "ipython3",
      "version": "3.7.4"
    },
    "colab": {
      "name": "glandula_mamaria_bubalina_notebook.ipynb",
      "provenance": []
    }
  },
  "cells": [
    {
      "cell_type": "markdown",
      "metadata": {
        "id": "xpjCAZO-myBe",
        "colab_type": "text"
      },
      "source": [
        "# Glândula Mamária Bubalina\n",
        "O presente notebook faz um estudo sobre a dectecção de infecção em glândula mamária bubalina a partir de exames do leite.\n",
        "\n",
        "### Atributos\n",
        "CCS - Contagem de Células Somáticas do leite (mil células/mL)\n",
        "\n",
        "SO - Teste Somaticell (mil celulas/mL)\n",
        "\n",
        "CMT - California Mastitis Test (escore)\n",
        "\n",
        "CEL - Condutividade Elétrica do Leite (miliSiems/cm)\n",
        "\n",
        "ECS - Log de CCS\n",
        "\n",
        "ESD - Log de SO\n",
        "\n",
        "ISOL - Tipo da presença dos microrganismos (Ne: Negativa; I: individual - isolamento de apenas um microrganismo; e M: mista - isolameto de 2 ou 3 microrganismo)\n",
        "\n",
        "TINFc - Característica da infecção (0: Negativa; 1: contagiosa; 2: ambiental; 4: contagiosa + ambiental; e 5: oportunista)\n",
        "\n",
        "QM - Posição do quarto mamário (AE: Anterior esquerdo; AD: anterior direito; PE: posterior esquerdo; e PD: posterior direito)\n",
        "\n",
        "QMc - Posição do quarto mamário codificada para duas posições (1: anterior; e 2: posterior)\n",
        "\n",
        "QMc2 - Posição do quarto mamário codificada para quatro posições (1: AD; 2: AE; 3: PE; e 4: PD)\n",
        "\n",
        "TINF (Agente 1) - Diferentes microrganismos isolados\n",
        "\n",
        "TINF (Agente 2) - Diferentes microrganismos isolados\n",
        "\n",
        "TINF (Agente 3) - Diferentes microrganismos isolados\n",
        "\n",
        "### Classe\n",
        "IMM - Microbiologia (D: Doente; e S: Sadio)\n",
        "\n",
        "#### Organização do notebook\n",
        "\n",
        "<ol>\n",
        "    <li>Bibliotecas</li>\n",
        "    <li>Limpeza e Transformação dos Dados</li>\n",
        "    <li>Análise dos Dados</li>\n",
        "    <li>Predição</li>\n",
        "</ol>\n",
        "\n",
        "\n",
        "# 1 - Bibliotecas"
      ]
    },
    {
      "cell_type": "code",
      "metadata": {
        "id": "ebqv6NJGtMWM",
        "colab_type": "code",
        "colab": {
          "base_uri": "https://localhost:8080/",
          "height": 54
        },
        "outputId": "139aa4be-5d3c-4fca-d57e-3b30237e7d66"
      },
      "source": [
        "from google.colab import drive\n",
        "drive.mount('/content/drive')"
      ],
      "execution_count": 7,
      "outputs": [
        {
          "output_type": "stream",
          "text": [
            "Drive already mounted at /content/drive; to attempt to forcibly remount, call drive.mount(\"/content/drive\", force_remount=True).\n"
          ],
          "name": "stdout"
        }
      ]
    },
    {
      "cell_type": "code",
      "metadata": {
        "id": "sFH8ZSyjmyBf",
        "colab_type": "code",
        "colab": {}
      },
      "source": [
        "import pandas as pd"
      ],
      "execution_count": 0,
      "outputs": []
    },
    {
      "cell_type": "code",
      "metadata": {
        "id": "fJVgE5EPmyBl",
        "colab_type": "code",
        "colab": {}
      },
      "source": [
        "import matplotlib.pyplot as plt\n",
        "import seaborn as sns\n",
        "\n",
        "%matplotlib inline"
      ],
      "execution_count": 0,
      "outputs": []
    },
    {
      "cell_type": "code",
      "metadata": {
        "id": "WaAWZzC2myBt",
        "colab_type": "code",
        "colab": {}
      },
      "source": [
        "from sklearn.model_selection import cross_val_score\n",
        "from sklearn.svm import SVC\n",
        "from sklearn.ensemble import RandomForestClassifier\n",
        "from sklearn.neighbors import KNeighborsClassifier\n",
        "from sklearn.naive_bayes import GaussianNB\n",
        "from sklearn.tree import DecisionTreeClassifier\n",
        "from sklearn.neural_network import MLPClassifier"
      ],
      "execution_count": 0,
      "outputs": []
    },
    {
      "cell_type": "markdown",
      "metadata": {
        "id": "LylOS4-CmyBw",
        "colab_type": "text"
      },
      "source": [
        "# 2 - Limpeza e Transformação dos Dados"
      ]
    },
    {
      "cell_type": "code",
      "metadata": {
        "id": "L9-mHtTFmyBx",
        "colab_type": "code",
        "colab": {}
      },
      "source": [
        "df = pd.read_csv('https://raw.githubusercontent.com/diegosilveiracn/glandula_mamaria_bubalina/master/dados.csv')"
      ],
      "execution_count": 0,
      "outputs": []
    },
    {
      "cell_type": "code",
      "metadata": {
        "id": "IaCTi0csmyB0",
        "colab_type": "code",
        "colab": {
          "base_uri": "https://localhost:8080/",
          "height": 210
        },
        "outputId": "58995cc7-5d04-45b4-97f4-1db02fccc450"
      },
      "source": [
        "df.head(3)"
      ],
      "execution_count": 12,
      "outputs": [
        {
          "output_type": "execute_result",
          "data": {
            "text/html": [
              "<div>\n",
              "<style scoped>\n",
              "    .dataframe tbody tr th:only-of-type {\n",
              "        vertical-align: middle;\n",
              "    }\n",
              "\n",
              "    .dataframe tbody tr th {\n",
              "        vertical-align: top;\n",
              "    }\n",
              "\n",
              "    .dataframe thead th {\n",
              "        text-align: right;\n",
              "    }\n",
              "</style>\n",
              "<table border=\"1\" class=\"dataframe\">\n",
              "  <thead>\n",
              "    <tr style=\"text-align: right;\">\n",
              "      <th></th>\n",
              "      <th>Amostra</th>\n",
              "      <th>CCS</th>\n",
              "      <th>SO</th>\n",
              "      <th>CMT</th>\n",
              "      <th>CEL</th>\n",
              "      <th>IMM</th>\n",
              "      <th>ECS</th>\n",
              "      <th>ESO</th>\n",
              "      <th>SOc</th>\n",
              "      <th>ISOL</th>\n",
              "      <th>TINFc</th>\n",
              "      <th>QM</th>\n",
              "      <th>QMc</th>\n",
              "      <th>QMc2</th>\n",
              "      <th>TINF - Agente 1</th>\n",
              "      <th>TINF - Agente 2</th>\n",
              "      <th>TINF - Agente 3</th>\n",
              "    </tr>\n",
              "  </thead>\n",
              "  <tbody>\n",
              "    <tr>\n",
              "      <th>0</th>\n",
              "      <td>9</td>\n",
              "      <td>21.0</td>\n",
              "      <td>79.0</td>\n",
              "      <td>2</td>\n",
              "      <td>4.23</td>\n",
              "      <td>D</td>\n",
              "      <td>3.0439</td>\n",
              "      <td>3.0630</td>\n",
              "      <td>1</td>\n",
              "      <td>I</td>\n",
              "      <td>3</td>\n",
              "      <td>AD</td>\n",
              "      <td>1</td>\n",
              "      <td>1</td>\n",
              "      <td>Bacillus licheniformis</td>\n",
              "      <td>NaN</td>\n",
              "      <td>NaN</td>\n",
              "    </tr>\n",
              "    <tr>\n",
              "      <th>1</th>\n",
              "      <td>12</td>\n",
              "      <td>249.0</td>\n",
              "      <td>127.0</td>\n",
              "      <td>2</td>\n",
              "      <td>3.21</td>\n",
              "      <td>D</td>\n",
              "      <td>3.0796</td>\n",
              "      <td>3.0699</td>\n",
              "      <td>1</td>\n",
              "      <td>M</td>\n",
              "      <td>3</td>\n",
              "      <td>AE</td>\n",
              "      <td>1</td>\n",
              "      <td>2</td>\n",
              "      <td>Staphylococcus chromogenes</td>\n",
              "      <td>Klebsiella spp</td>\n",
              "      <td>NaN</td>\n",
              "    </tr>\n",
              "    <tr>\n",
              "      <th>2</th>\n",
              "      <td>13</td>\n",
              "      <td>47.0</td>\n",
              "      <td>147.0</td>\n",
              "      <td>4</td>\n",
              "      <td>4.65</td>\n",
              "      <td>D</td>\n",
              "      <td>3.0555</td>\n",
              "      <td>3.0720</td>\n",
              "      <td>3</td>\n",
              "      <td>M</td>\n",
              "      <td>4</td>\n",
              "      <td>PE</td>\n",
              "      <td>2</td>\n",
              "      <td>4</td>\n",
              "      <td>Streptococcus uberis</td>\n",
              "      <td>Klebsiella spp</td>\n",
              "      <td>Bacillus licheniformis</td>\n",
              "    </tr>\n",
              "  </tbody>\n",
              "</table>\n",
              "</div>"
            ],
            "text/plain": [
              "  Amostra   CCS   ...  TINF - Agente 2         TINF - Agente 3\n",
              "0       9   21.0  ...              NaN                     NaN\n",
              "1      12  249.0  ...   Klebsiella spp                     NaN\n",
              "2      13   47.0  ...   Klebsiella spp  Bacillus licheniformis\n",
              "\n",
              "[3 rows x 17 columns]"
            ]
          },
          "metadata": {
            "tags": []
          },
          "execution_count": 12
        }
      ]
    },
    {
      "cell_type": "code",
      "metadata": {
        "id": "Ondk7SczmyB8",
        "colab_type": "code",
        "colab": {
          "base_uri": "https://localhost:8080/",
          "height": 425
        },
        "outputId": "02b18545-d97f-4ffa-b137-a513c66ac17d"
      },
      "source": [
        "df.info()"
      ],
      "execution_count": 13,
      "outputs": [
        {
          "output_type": "stream",
          "text": [
            "<class 'pandas.core.frame.DataFrame'>\n",
            "RangeIndex: 275 entries, 0 to 274\n",
            "Data columns (total 17 columns):\n",
            " #   Column           Non-Null Count  Dtype  \n",
            "---  ------           --------------  -----  \n",
            " 0   Amostra          275 non-null    object \n",
            " 1    CCS             275 non-null    float64\n",
            " 2    SO              275 non-null    float64\n",
            " 3   CMT              275 non-null    int64  \n",
            " 4   CEL              275 non-null    float64\n",
            " 5   IMM              275 non-null    object \n",
            " 6    ECS             275 non-null    float64\n",
            " 7    ESO             275 non-null    float64\n",
            " 8    SOc             275 non-null    int64  \n",
            " 9   ISOL             275 non-null    object \n",
            " 10  TINFc            275 non-null    int64  \n",
            " 11  QM               275 non-null    object \n",
            " 12  QMc              275 non-null    int64  \n",
            " 13  QMc2             275 non-null    int64  \n",
            " 14  TINF - Agente 1  189 non-null    object \n",
            " 15  TINF - Agente 2  50 non-null     object \n",
            " 16  TINF - Agente 3  6 non-null      object \n",
            "dtypes: float64(5), int64(5), object(7)\n",
            "memory usage: 36.6+ KB\n"
          ],
          "name": "stdout"
        }
      ]
    },
    {
      "cell_type": "markdown",
      "metadata": {
        "id": "_TpGDW9XmyB_",
        "colab_type": "text"
      },
      "source": [
        "### Amostra"
      ]
    },
    {
      "cell_type": "code",
      "metadata": {
        "id": "F0OoFS47myCB",
        "colab_type": "code",
        "colab": {}
      },
      "source": [
        "df.drop('Amostra',axis=1,inplace=True)"
      ],
      "execution_count": 0,
      "outputs": []
    },
    {
      "cell_type": "code",
      "metadata": {
        "id": "Ab4est_SmyCF",
        "colab_type": "code",
        "colab": {
          "base_uri": "https://localhost:8080/",
          "height": 193
        },
        "outputId": "32465302-fdca-44b0-9848-99f991ad459f"
      },
      "source": [
        "df.head(3)"
      ],
      "execution_count": 15,
      "outputs": [
        {
          "output_type": "execute_result",
          "data": {
            "text/html": [
              "<div>\n",
              "<style scoped>\n",
              "    .dataframe tbody tr th:only-of-type {\n",
              "        vertical-align: middle;\n",
              "    }\n",
              "\n",
              "    .dataframe tbody tr th {\n",
              "        vertical-align: top;\n",
              "    }\n",
              "\n",
              "    .dataframe thead th {\n",
              "        text-align: right;\n",
              "    }\n",
              "</style>\n",
              "<table border=\"1\" class=\"dataframe\">\n",
              "  <thead>\n",
              "    <tr style=\"text-align: right;\">\n",
              "      <th></th>\n",
              "      <th>CCS</th>\n",
              "      <th>SO</th>\n",
              "      <th>CMT</th>\n",
              "      <th>CEL</th>\n",
              "      <th>IMM</th>\n",
              "      <th>ECS</th>\n",
              "      <th>ESO</th>\n",
              "      <th>SOc</th>\n",
              "      <th>ISOL</th>\n",
              "      <th>TINFc</th>\n",
              "      <th>QM</th>\n",
              "      <th>QMc</th>\n",
              "      <th>QMc2</th>\n",
              "      <th>TINF - Agente 1</th>\n",
              "      <th>TINF - Agente 2</th>\n",
              "      <th>TINF - Agente 3</th>\n",
              "    </tr>\n",
              "  </thead>\n",
              "  <tbody>\n",
              "    <tr>\n",
              "      <th>0</th>\n",
              "      <td>21.0</td>\n",
              "      <td>79.0</td>\n",
              "      <td>2</td>\n",
              "      <td>4.23</td>\n",
              "      <td>D</td>\n",
              "      <td>3.0439</td>\n",
              "      <td>3.0630</td>\n",
              "      <td>1</td>\n",
              "      <td>I</td>\n",
              "      <td>3</td>\n",
              "      <td>AD</td>\n",
              "      <td>1</td>\n",
              "      <td>1</td>\n",
              "      <td>Bacillus licheniformis</td>\n",
              "      <td>NaN</td>\n",
              "      <td>NaN</td>\n",
              "    </tr>\n",
              "    <tr>\n",
              "      <th>1</th>\n",
              "      <td>249.0</td>\n",
              "      <td>127.0</td>\n",
              "      <td>2</td>\n",
              "      <td>3.21</td>\n",
              "      <td>D</td>\n",
              "      <td>3.0796</td>\n",
              "      <td>3.0699</td>\n",
              "      <td>1</td>\n",
              "      <td>M</td>\n",
              "      <td>3</td>\n",
              "      <td>AE</td>\n",
              "      <td>1</td>\n",
              "      <td>2</td>\n",
              "      <td>Staphylococcus chromogenes</td>\n",
              "      <td>Klebsiella spp</td>\n",
              "      <td>NaN</td>\n",
              "    </tr>\n",
              "    <tr>\n",
              "      <th>2</th>\n",
              "      <td>47.0</td>\n",
              "      <td>147.0</td>\n",
              "      <td>4</td>\n",
              "      <td>4.65</td>\n",
              "      <td>D</td>\n",
              "      <td>3.0555</td>\n",
              "      <td>3.0720</td>\n",
              "      <td>3</td>\n",
              "      <td>M</td>\n",
              "      <td>4</td>\n",
              "      <td>PE</td>\n",
              "      <td>2</td>\n",
              "      <td>4</td>\n",
              "      <td>Streptococcus uberis</td>\n",
              "      <td>Klebsiella spp</td>\n",
              "      <td>Bacillus licheniformis</td>\n",
              "    </tr>\n",
              "  </tbody>\n",
              "</table>\n",
              "</div>"
            ],
            "text/plain": [
              "    CCS     SO   ...  TINF - Agente 2         TINF - Agente 3\n",
              "0   21.0   79.0  ...              NaN                     NaN\n",
              "1  249.0  127.0  ...   Klebsiella spp                     NaN\n",
              "2   47.0  147.0  ...   Klebsiella spp  Bacillus licheniformis\n",
              "\n",
              "[3 rows x 16 columns]"
            ]
          },
          "metadata": {
            "tags": []
          },
          "execution_count": 15
        }
      ]
    },
    {
      "cell_type": "markdown",
      "metadata": {
        "id": "zLLBBfnomyCP",
        "colab_type": "text"
      },
      "source": [
        "### IMM"
      ]
    },
    {
      "cell_type": "code",
      "metadata": {
        "id": "99gFcZtymyCR",
        "colab_type": "code",
        "colab": {}
      },
      "source": [
        "lista_imm = df['IMM'].unique()"
      ],
      "execution_count": 0,
      "outputs": []
    },
    {
      "cell_type": "code",
      "metadata": {
        "id": "LIySNNvwmyCU",
        "colab_type": "code",
        "colab": {
          "base_uri": "https://localhost:8080/",
          "height": 34
        },
        "outputId": "3b9e2c55-d44f-4826-f86c-f48d19c0f9c4"
      },
      "source": [
        "lista_imm"
      ],
      "execution_count": 17,
      "outputs": [
        {
          "output_type": "execute_result",
          "data": {
            "text/plain": [
              "array(['D', 'S'], dtype=object)"
            ]
          },
          "metadata": {
            "tags": []
          },
          "execution_count": 17
        }
      ]
    },
    {
      "cell_type": "code",
      "metadata": {
        "id": "-caGodSimyCa",
        "colab_type": "code",
        "colab": {}
      },
      "source": [
        "map_imm = {lista_imm[x]: x for x in range(len(lista_imm))}"
      ],
      "execution_count": 0,
      "outputs": []
    },
    {
      "cell_type": "code",
      "metadata": {
        "id": "aMfyBp-2myCi",
        "colab_type": "code",
        "colab": {
          "base_uri": "https://localhost:8080/",
          "height": 34
        },
        "outputId": "b251575b-feb1-4311-c068-c2aff46597e9"
      },
      "source": [
        "map_imm"
      ],
      "execution_count": 19,
      "outputs": [
        {
          "output_type": "execute_result",
          "data": {
            "text/plain": [
              "{'D': 0, 'S': 1}"
            ]
          },
          "metadata": {
            "tags": []
          },
          "execution_count": 19
        }
      ]
    },
    {
      "cell_type": "code",
      "metadata": {
        "id": "c6DuzpLWmyCl",
        "colab_type": "code",
        "colab": {}
      },
      "source": [
        "df['IMM'] = df['IMM'].map(map_imm)"
      ],
      "execution_count": 0,
      "outputs": []
    },
    {
      "cell_type": "code",
      "metadata": {
        "id": "TwsuZcALmyCr",
        "colab_type": "code",
        "colab": {
          "base_uri": "https://localhost:8080/",
          "height": 193
        },
        "outputId": "12217205-c126-4b96-d893-b0412e90c03d"
      },
      "source": [
        "df.head(3)"
      ],
      "execution_count": 21,
      "outputs": [
        {
          "output_type": "execute_result",
          "data": {
            "text/html": [
              "<div>\n",
              "<style scoped>\n",
              "    .dataframe tbody tr th:only-of-type {\n",
              "        vertical-align: middle;\n",
              "    }\n",
              "\n",
              "    .dataframe tbody tr th {\n",
              "        vertical-align: top;\n",
              "    }\n",
              "\n",
              "    .dataframe thead th {\n",
              "        text-align: right;\n",
              "    }\n",
              "</style>\n",
              "<table border=\"1\" class=\"dataframe\">\n",
              "  <thead>\n",
              "    <tr style=\"text-align: right;\">\n",
              "      <th></th>\n",
              "      <th>CCS</th>\n",
              "      <th>SO</th>\n",
              "      <th>CMT</th>\n",
              "      <th>CEL</th>\n",
              "      <th>IMM</th>\n",
              "      <th>ECS</th>\n",
              "      <th>ESO</th>\n",
              "      <th>SOc</th>\n",
              "      <th>ISOL</th>\n",
              "      <th>TINFc</th>\n",
              "      <th>QM</th>\n",
              "      <th>QMc</th>\n",
              "      <th>QMc2</th>\n",
              "      <th>TINF - Agente 1</th>\n",
              "      <th>TINF - Agente 2</th>\n",
              "      <th>TINF - Agente 3</th>\n",
              "    </tr>\n",
              "  </thead>\n",
              "  <tbody>\n",
              "    <tr>\n",
              "      <th>0</th>\n",
              "      <td>21.0</td>\n",
              "      <td>79.0</td>\n",
              "      <td>2</td>\n",
              "      <td>4.23</td>\n",
              "      <td>0</td>\n",
              "      <td>3.0439</td>\n",
              "      <td>3.0630</td>\n",
              "      <td>1</td>\n",
              "      <td>I</td>\n",
              "      <td>3</td>\n",
              "      <td>AD</td>\n",
              "      <td>1</td>\n",
              "      <td>1</td>\n",
              "      <td>Bacillus licheniformis</td>\n",
              "      <td>NaN</td>\n",
              "      <td>NaN</td>\n",
              "    </tr>\n",
              "    <tr>\n",
              "      <th>1</th>\n",
              "      <td>249.0</td>\n",
              "      <td>127.0</td>\n",
              "      <td>2</td>\n",
              "      <td>3.21</td>\n",
              "      <td>0</td>\n",
              "      <td>3.0796</td>\n",
              "      <td>3.0699</td>\n",
              "      <td>1</td>\n",
              "      <td>M</td>\n",
              "      <td>3</td>\n",
              "      <td>AE</td>\n",
              "      <td>1</td>\n",
              "      <td>2</td>\n",
              "      <td>Staphylococcus chromogenes</td>\n",
              "      <td>Klebsiella spp</td>\n",
              "      <td>NaN</td>\n",
              "    </tr>\n",
              "    <tr>\n",
              "      <th>2</th>\n",
              "      <td>47.0</td>\n",
              "      <td>147.0</td>\n",
              "      <td>4</td>\n",
              "      <td>4.65</td>\n",
              "      <td>0</td>\n",
              "      <td>3.0555</td>\n",
              "      <td>3.0720</td>\n",
              "      <td>3</td>\n",
              "      <td>M</td>\n",
              "      <td>4</td>\n",
              "      <td>PE</td>\n",
              "      <td>2</td>\n",
              "      <td>4</td>\n",
              "      <td>Streptococcus uberis</td>\n",
              "      <td>Klebsiella spp</td>\n",
              "      <td>Bacillus licheniformis</td>\n",
              "    </tr>\n",
              "  </tbody>\n",
              "</table>\n",
              "</div>"
            ],
            "text/plain": [
              "    CCS     SO   ...  TINF - Agente 2         TINF - Agente 3\n",
              "0   21.0   79.0  ...              NaN                     NaN\n",
              "1  249.0  127.0  ...   Klebsiella spp                     NaN\n",
              "2   47.0  147.0  ...   Klebsiella spp  Bacillus licheniformis\n",
              "\n",
              "[3 rows x 16 columns]"
            ]
          },
          "metadata": {
            "tags": []
          },
          "execution_count": 21
        }
      ]
    },
    {
      "cell_type": "markdown",
      "metadata": {
        "id": "0NUx3Mc7myCw",
        "colab_type": "text"
      },
      "source": [
        "### ISOL"
      ]
    },
    {
      "cell_type": "code",
      "metadata": {
        "id": "Q5IYEi1bmyCw",
        "colab_type": "code",
        "colab": {}
      },
      "source": [
        "lista_isol = df['ISOL'].unique()"
      ],
      "execution_count": 0,
      "outputs": []
    },
    {
      "cell_type": "code",
      "metadata": {
        "id": "ZryGT7lvmyCz",
        "colab_type": "code",
        "colab": {
          "base_uri": "https://localhost:8080/",
          "height": 0
        },
        "outputId": "36fd7f2e-9b83-4995-8309-ae9bc28d11c9"
      },
      "source": [
        "lista_isol"
      ],
      "execution_count": 23,
      "outputs": [
        {
          "output_type": "execute_result",
          "data": {
            "text/plain": [
              "array(['I', 'M', 'Ne'], dtype=object)"
            ]
          },
          "metadata": {
            "tags": []
          },
          "execution_count": 23
        }
      ]
    },
    {
      "cell_type": "code",
      "metadata": {
        "id": "CMqbduMSmyC2",
        "colab_type": "code",
        "colab": {}
      },
      "source": [
        "map_isol = {lista_isol[x]: x for x in range(len(lista_isol))}"
      ],
      "execution_count": 0,
      "outputs": []
    },
    {
      "cell_type": "code",
      "metadata": {
        "id": "nOh-mCYJmyC_",
        "colab_type": "code",
        "colab": {
          "base_uri": "https://localhost:8080/",
          "height": 0
        },
        "outputId": "6cad6bf2-d6f8-4903-cfdb-e2f95493b1e9"
      },
      "source": [
        "map_isol"
      ],
      "execution_count": 25,
      "outputs": [
        {
          "output_type": "execute_result",
          "data": {
            "text/plain": [
              "{'I': 0, 'M': 1, 'Ne': 2}"
            ]
          },
          "metadata": {
            "tags": []
          },
          "execution_count": 25
        }
      ]
    },
    {
      "cell_type": "code",
      "metadata": {
        "id": "GuFQjnujmyDC",
        "colab_type": "code",
        "colab": {}
      },
      "source": [
        "df['ISOL'] = df['ISOL'].map(map_isol)"
      ],
      "execution_count": 0,
      "outputs": []
    },
    {
      "cell_type": "code",
      "metadata": {
        "id": "stwxC6sAmyDF",
        "colab_type": "code",
        "colab": {
          "base_uri": "https://localhost:8080/",
          "height": 0
        },
        "outputId": "5519b797-4cd7-4e15-9ad6-b83971c024cc"
      },
      "source": [
        "df.head(3)"
      ],
      "execution_count": 27,
      "outputs": [
        {
          "output_type": "execute_result",
          "data": {
            "text/html": [
              "<div>\n",
              "<style scoped>\n",
              "    .dataframe tbody tr th:only-of-type {\n",
              "        vertical-align: middle;\n",
              "    }\n",
              "\n",
              "    .dataframe tbody tr th {\n",
              "        vertical-align: top;\n",
              "    }\n",
              "\n",
              "    .dataframe thead th {\n",
              "        text-align: right;\n",
              "    }\n",
              "</style>\n",
              "<table border=\"1\" class=\"dataframe\">\n",
              "  <thead>\n",
              "    <tr style=\"text-align: right;\">\n",
              "      <th></th>\n",
              "      <th>CCS</th>\n",
              "      <th>SO</th>\n",
              "      <th>CMT</th>\n",
              "      <th>CEL</th>\n",
              "      <th>IMM</th>\n",
              "      <th>ECS</th>\n",
              "      <th>ESO</th>\n",
              "      <th>SOc</th>\n",
              "      <th>ISOL</th>\n",
              "      <th>TINFc</th>\n",
              "      <th>QM</th>\n",
              "      <th>QMc</th>\n",
              "      <th>QMc2</th>\n",
              "      <th>TINF - Agente 1</th>\n",
              "      <th>TINF - Agente 2</th>\n",
              "      <th>TINF - Agente 3</th>\n",
              "    </tr>\n",
              "  </thead>\n",
              "  <tbody>\n",
              "    <tr>\n",
              "      <th>0</th>\n",
              "      <td>21.0</td>\n",
              "      <td>79.0</td>\n",
              "      <td>2</td>\n",
              "      <td>4.23</td>\n",
              "      <td>0</td>\n",
              "      <td>3.0439</td>\n",
              "      <td>3.0630</td>\n",
              "      <td>1</td>\n",
              "      <td>0</td>\n",
              "      <td>3</td>\n",
              "      <td>AD</td>\n",
              "      <td>1</td>\n",
              "      <td>1</td>\n",
              "      <td>Bacillus licheniformis</td>\n",
              "      <td>NaN</td>\n",
              "      <td>NaN</td>\n",
              "    </tr>\n",
              "    <tr>\n",
              "      <th>1</th>\n",
              "      <td>249.0</td>\n",
              "      <td>127.0</td>\n",
              "      <td>2</td>\n",
              "      <td>3.21</td>\n",
              "      <td>0</td>\n",
              "      <td>3.0796</td>\n",
              "      <td>3.0699</td>\n",
              "      <td>1</td>\n",
              "      <td>1</td>\n",
              "      <td>3</td>\n",
              "      <td>AE</td>\n",
              "      <td>1</td>\n",
              "      <td>2</td>\n",
              "      <td>Staphylococcus chromogenes</td>\n",
              "      <td>Klebsiella spp</td>\n",
              "      <td>NaN</td>\n",
              "    </tr>\n",
              "    <tr>\n",
              "      <th>2</th>\n",
              "      <td>47.0</td>\n",
              "      <td>147.0</td>\n",
              "      <td>4</td>\n",
              "      <td>4.65</td>\n",
              "      <td>0</td>\n",
              "      <td>3.0555</td>\n",
              "      <td>3.0720</td>\n",
              "      <td>3</td>\n",
              "      <td>1</td>\n",
              "      <td>4</td>\n",
              "      <td>PE</td>\n",
              "      <td>2</td>\n",
              "      <td>4</td>\n",
              "      <td>Streptococcus uberis</td>\n",
              "      <td>Klebsiella spp</td>\n",
              "      <td>Bacillus licheniformis</td>\n",
              "    </tr>\n",
              "  </tbody>\n",
              "</table>\n",
              "</div>"
            ],
            "text/plain": [
              "    CCS     SO   ...  TINF - Agente 2         TINF - Agente 3\n",
              "0   21.0   79.0  ...              NaN                     NaN\n",
              "1  249.0  127.0  ...   Klebsiella spp                     NaN\n",
              "2   47.0  147.0  ...   Klebsiella spp  Bacillus licheniformis\n",
              "\n",
              "[3 rows x 16 columns]"
            ]
          },
          "metadata": {
            "tags": []
          },
          "execution_count": 27
        }
      ]
    },
    {
      "cell_type": "markdown",
      "metadata": {
        "id": "7-OacmiMmyDH",
        "colab_type": "text"
      },
      "source": [
        "### QM"
      ]
    },
    {
      "cell_type": "code",
      "metadata": {
        "id": "jWSCbMeNmyDI",
        "colab_type": "code",
        "colab": {}
      },
      "source": [
        "lista_qm = df['QM'].unique()"
      ],
      "execution_count": 0,
      "outputs": []
    },
    {
      "cell_type": "code",
      "metadata": {
        "id": "qMUdnmY7myDO",
        "colab_type": "code",
        "colab": {
          "base_uri": "https://localhost:8080/",
          "height": 0
        },
        "outputId": "7fb936a1-a98b-4140-f563-5e37b8eca050"
      },
      "source": [
        "lista_qm"
      ],
      "execution_count": 29,
      "outputs": [
        {
          "output_type": "execute_result",
          "data": {
            "text/plain": [
              "array(['AD', 'AE', 'PE', 'PD', 'COMP'], dtype=object)"
            ]
          },
          "metadata": {
            "tags": []
          },
          "execution_count": 29
        }
      ]
    },
    {
      "cell_type": "code",
      "metadata": {
        "id": "WRAV9nfTmyDR",
        "colab_type": "code",
        "colab": {}
      },
      "source": [
        "map_qm = {lista_qm[x]: x for x in range(len(lista_qm))}"
      ],
      "execution_count": 0,
      "outputs": []
    },
    {
      "cell_type": "code",
      "metadata": {
        "id": "2qYoLkVRmyDU",
        "colab_type": "code",
        "colab": {
          "base_uri": "https://localhost:8080/",
          "height": 0
        },
        "outputId": "6c0437e4-6e39-4ac1-b1bf-fddd7aea957e"
      },
      "source": [
        "map_qm"
      ],
      "execution_count": 31,
      "outputs": [
        {
          "output_type": "execute_result",
          "data": {
            "text/plain": [
              "{'AD': 0, 'AE': 1, 'COMP': 4, 'PD': 3, 'PE': 2}"
            ]
          },
          "metadata": {
            "tags": []
          },
          "execution_count": 31
        }
      ]
    },
    {
      "cell_type": "code",
      "metadata": {
        "id": "L6iXjJkHmyDY",
        "colab_type": "code",
        "colab": {}
      },
      "source": [
        "df['QM'] = df['QM'].map(map_qm)"
      ],
      "execution_count": 0,
      "outputs": []
    },
    {
      "cell_type": "code",
      "metadata": {
        "id": "w-uDt_87myDh",
        "colab_type": "code",
        "colab": {
          "base_uri": "https://localhost:8080/",
          "height": 0
        },
        "outputId": "f008de91-bfb4-4af4-f2db-463ce1363015"
      },
      "source": [
        "df.head(3)"
      ],
      "execution_count": 33,
      "outputs": [
        {
          "output_type": "execute_result",
          "data": {
            "text/html": [
              "<div>\n",
              "<style scoped>\n",
              "    .dataframe tbody tr th:only-of-type {\n",
              "        vertical-align: middle;\n",
              "    }\n",
              "\n",
              "    .dataframe tbody tr th {\n",
              "        vertical-align: top;\n",
              "    }\n",
              "\n",
              "    .dataframe thead th {\n",
              "        text-align: right;\n",
              "    }\n",
              "</style>\n",
              "<table border=\"1\" class=\"dataframe\">\n",
              "  <thead>\n",
              "    <tr style=\"text-align: right;\">\n",
              "      <th></th>\n",
              "      <th>CCS</th>\n",
              "      <th>SO</th>\n",
              "      <th>CMT</th>\n",
              "      <th>CEL</th>\n",
              "      <th>IMM</th>\n",
              "      <th>ECS</th>\n",
              "      <th>ESO</th>\n",
              "      <th>SOc</th>\n",
              "      <th>ISOL</th>\n",
              "      <th>TINFc</th>\n",
              "      <th>QM</th>\n",
              "      <th>QMc</th>\n",
              "      <th>QMc2</th>\n",
              "      <th>TINF - Agente 1</th>\n",
              "      <th>TINF - Agente 2</th>\n",
              "      <th>TINF - Agente 3</th>\n",
              "    </tr>\n",
              "  </thead>\n",
              "  <tbody>\n",
              "    <tr>\n",
              "      <th>0</th>\n",
              "      <td>21.0</td>\n",
              "      <td>79.0</td>\n",
              "      <td>2</td>\n",
              "      <td>4.23</td>\n",
              "      <td>0</td>\n",
              "      <td>3.0439</td>\n",
              "      <td>3.0630</td>\n",
              "      <td>1</td>\n",
              "      <td>0</td>\n",
              "      <td>3</td>\n",
              "      <td>0</td>\n",
              "      <td>1</td>\n",
              "      <td>1</td>\n",
              "      <td>Bacillus licheniformis</td>\n",
              "      <td>NaN</td>\n",
              "      <td>NaN</td>\n",
              "    </tr>\n",
              "    <tr>\n",
              "      <th>1</th>\n",
              "      <td>249.0</td>\n",
              "      <td>127.0</td>\n",
              "      <td>2</td>\n",
              "      <td>3.21</td>\n",
              "      <td>0</td>\n",
              "      <td>3.0796</td>\n",
              "      <td>3.0699</td>\n",
              "      <td>1</td>\n",
              "      <td>1</td>\n",
              "      <td>3</td>\n",
              "      <td>1</td>\n",
              "      <td>1</td>\n",
              "      <td>2</td>\n",
              "      <td>Staphylococcus chromogenes</td>\n",
              "      <td>Klebsiella spp</td>\n",
              "      <td>NaN</td>\n",
              "    </tr>\n",
              "    <tr>\n",
              "      <th>2</th>\n",
              "      <td>47.0</td>\n",
              "      <td>147.0</td>\n",
              "      <td>4</td>\n",
              "      <td>4.65</td>\n",
              "      <td>0</td>\n",
              "      <td>3.0555</td>\n",
              "      <td>3.0720</td>\n",
              "      <td>3</td>\n",
              "      <td>1</td>\n",
              "      <td>4</td>\n",
              "      <td>2</td>\n",
              "      <td>2</td>\n",
              "      <td>4</td>\n",
              "      <td>Streptococcus uberis</td>\n",
              "      <td>Klebsiella spp</td>\n",
              "      <td>Bacillus licheniformis</td>\n",
              "    </tr>\n",
              "  </tbody>\n",
              "</table>\n",
              "</div>"
            ],
            "text/plain": [
              "    CCS     SO   ...  TINF - Agente 2         TINF - Agente 3\n",
              "0   21.0   79.0  ...              NaN                     NaN\n",
              "1  249.0  127.0  ...   Klebsiella spp                     NaN\n",
              "2   47.0  147.0  ...   Klebsiella spp  Bacillus licheniformis\n",
              "\n",
              "[3 rows x 16 columns]"
            ]
          },
          "metadata": {
            "tags": []
          },
          "execution_count": 33
        }
      ]
    },
    {
      "cell_type": "markdown",
      "metadata": {
        "id": "ZdvsSoo9myDj",
        "colab_type": "text"
      },
      "source": [
        "### TINF - Agente 1"
      ]
    },
    {
      "cell_type": "code",
      "metadata": {
        "id": "9UPsLa9HmyDk",
        "colab_type": "code",
        "colab": {}
      },
      "source": [
        "df['TINF - Agente 1'] = df.apply(lambda x: 0 if pd.isna(x['TINF - Agente 1']) else 1,axis=1)"
      ],
      "execution_count": 0,
      "outputs": []
    },
    {
      "cell_type": "code",
      "metadata": {
        "id": "JN_bfp5umyDm",
        "colab_type": "code",
        "colab": {
          "base_uri": "https://localhost:8080/",
          "height": 0
        },
        "outputId": "bde78dba-02bf-459d-ce22-7656a8c8db0e"
      },
      "source": [
        "df.head(3)"
      ],
      "execution_count": 35,
      "outputs": [
        {
          "output_type": "execute_result",
          "data": {
            "text/html": [
              "<div>\n",
              "<style scoped>\n",
              "    .dataframe tbody tr th:only-of-type {\n",
              "        vertical-align: middle;\n",
              "    }\n",
              "\n",
              "    .dataframe tbody tr th {\n",
              "        vertical-align: top;\n",
              "    }\n",
              "\n",
              "    .dataframe thead th {\n",
              "        text-align: right;\n",
              "    }\n",
              "</style>\n",
              "<table border=\"1\" class=\"dataframe\">\n",
              "  <thead>\n",
              "    <tr style=\"text-align: right;\">\n",
              "      <th></th>\n",
              "      <th>CCS</th>\n",
              "      <th>SO</th>\n",
              "      <th>CMT</th>\n",
              "      <th>CEL</th>\n",
              "      <th>IMM</th>\n",
              "      <th>ECS</th>\n",
              "      <th>ESO</th>\n",
              "      <th>SOc</th>\n",
              "      <th>ISOL</th>\n",
              "      <th>TINFc</th>\n",
              "      <th>QM</th>\n",
              "      <th>QMc</th>\n",
              "      <th>QMc2</th>\n",
              "      <th>TINF - Agente 1</th>\n",
              "      <th>TINF - Agente 2</th>\n",
              "      <th>TINF - Agente 3</th>\n",
              "    </tr>\n",
              "  </thead>\n",
              "  <tbody>\n",
              "    <tr>\n",
              "      <th>0</th>\n",
              "      <td>21.0</td>\n",
              "      <td>79.0</td>\n",
              "      <td>2</td>\n",
              "      <td>4.23</td>\n",
              "      <td>0</td>\n",
              "      <td>3.0439</td>\n",
              "      <td>3.0630</td>\n",
              "      <td>1</td>\n",
              "      <td>0</td>\n",
              "      <td>3</td>\n",
              "      <td>0</td>\n",
              "      <td>1</td>\n",
              "      <td>1</td>\n",
              "      <td>1</td>\n",
              "      <td>NaN</td>\n",
              "      <td>NaN</td>\n",
              "    </tr>\n",
              "    <tr>\n",
              "      <th>1</th>\n",
              "      <td>249.0</td>\n",
              "      <td>127.0</td>\n",
              "      <td>2</td>\n",
              "      <td>3.21</td>\n",
              "      <td>0</td>\n",
              "      <td>3.0796</td>\n",
              "      <td>3.0699</td>\n",
              "      <td>1</td>\n",
              "      <td>1</td>\n",
              "      <td>3</td>\n",
              "      <td>1</td>\n",
              "      <td>1</td>\n",
              "      <td>2</td>\n",
              "      <td>1</td>\n",
              "      <td>Klebsiella spp</td>\n",
              "      <td>NaN</td>\n",
              "    </tr>\n",
              "    <tr>\n",
              "      <th>2</th>\n",
              "      <td>47.0</td>\n",
              "      <td>147.0</td>\n",
              "      <td>4</td>\n",
              "      <td>4.65</td>\n",
              "      <td>0</td>\n",
              "      <td>3.0555</td>\n",
              "      <td>3.0720</td>\n",
              "      <td>3</td>\n",
              "      <td>1</td>\n",
              "      <td>4</td>\n",
              "      <td>2</td>\n",
              "      <td>2</td>\n",
              "      <td>4</td>\n",
              "      <td>1</td>\n",
              "      <td>Klebsiella spp</td>\n",
              "      <td>Bacillus licheniformis</td>\n",
              "    </tr>\n",
              "  </tbody>\n",
              "</table>\n",
              "</div>"
            ],
            "text/plain": [
              "    CCS     SO   CMT  ...  TINF - Agente 1  TINF - Agente 2         TINF - Agente 3\n",
              "0   21.0   79.0    2  ...                1              NaN                     NaN\n",
              "1  249.0  127.0    2  ...                1   Klebsiella spp                     NaN\n",
              "2   47.0  147.0    4  ...                1   Klebsiella spp  Bacillus licheniformis\n",
              "\n",
              "[3 rows x 16 columns]"
            ]
          },
          "metadata": {
            "tags": []
          },
          "execution_count": 35
        }
      ]
    },
    {
      "cell_type": "markdown",
      "metadata": {
        "id": "BoPqH_tLmyDp",
        "colab_type": "text"
      },
      "source": [
        "### TINF - Agente 2"
      ]
    },
    {
      "cell_type": "code",
      "metadata": {
        "id": "0Kebkp2vmyDq",
        "colab_type": "code",
        "colab": {}
      },
      "source": [
        "df['TINF - Agente 2'] = df.apply(lambda x: 0 if pd.isna(x['TINF - Agente 2']) else 1,axis=1)"
      ],
      "execution_count": 0,
      "outputs": []
    },
    {
      "cell_type": "code",
      "metadata": {
        "id": "1MVG2HzvmyD0",
        "colab_type": "code",
        "colab": {
          "base_uri": "https://localhost:8080/",
          "height": 0
        },
        "outputId": "68434a68-1581-4c22-dd50-f95ad74557a2"
      },
      "source": [
        "df.head(3)"
      ],
      "execution_count": 37,
      "outputs": [
        {
          "output_type": "execute_result",
          "data": {
            "text/html": [
              "<div>\n",
              "<style scoped>\n",
              "    .dataframe tbody tr th:only-of-type {\n",
              "        vertical-align: middle;\n",
              "    }\n",
              "\n",
              "    .dataframe tbody tr th {\n",
              "        vertical-align: top;\n",
              "    }\n",
              "\n",
              "    .dataframe thead th {\n",
              "        text-align: right;\n",
              "    }\n",
              "</style>\n",
              "<table border=\"1\" class=\"dataframe\">\n",
              "  <thead>\n",
              "    <tr style=\"text-align: right;\">\n",
              "      <th></th>\n",
              "      <th>CCS</th>\n",
              "      <th>SO</th>\n",
              "      <th>CMT</th>\n",
              "      <th>CEL</th>\n",
              "      <th>IMM</th>\n",
              "      <th>ECS</th>\n",
              "      <th>ESO</th>\n",
              "      <th>SOc</th>\n",
              "      <th>ISOL</th>\n",
              "      <th>TINFc</th>\n",
              "      <th>QM</th>\n",
              "      <th>QMc</th>\n",
              "      <th>QMc2</th>\n",
              "      <th>TINF - Agente 1</th>\n",
              "      <th>TINF - Agente 2</th>\n",
              "      <th>TINF - Agente 3</th>\n",
              "    </tr>\n",
              "  </thead>\n",
              "  <tbody>\n",
              "    <tr>\n",
              "      <th>0</th>\n",
              "      <td>21.0</td>\n",
              "      <td>79.0</td>\n",
              "      <td>2</td>\n",
              "      <td>4.23</td>\n",
              "      <td>0</td>\n",
              "      <td>3.0439</td>\n",
              "      <td>3.0630</td>\n",
              "      <td>1</td>\n",
              "      <td>0</td>\n",
              "      <td>3</td>\n",
              "      <td>0</td>\n",
              "      <td>1</td>\n",
              "      <td>1</td>\n",
              "      <td>1</td>\n",
              "      <td>0</td>\n",
              "      <td>NaN</td>\n",
              "    </tr>\n",
              "    <tr>\n",
              "      <th>1</th>\n",
              "      <td>249.0</td>\n",
              "      <td>127.0</td>\n",
              "      <td>2</td>\n",
              "      <td>3.21</td>\n",
              "      <td>0</td>\n",
              "      <td>3.0796</td>\n",
              "      <td>3.0699</td>\n",
              "      <td>1</td>\n",
              "      <td>1</td>\n",
              "      <td>3</td>\n",
              "      <td>1</td>\n",
              "      <td>1</td>\n",
              "      <td>2</td>\n",
              "      <td>1</td>\n",
              "      <td>1</td>\n",
              "      <td>NaN</td>\n",
              "    </tr>\n",
              "    <tr>\n",
              "      <th>2</th>\n",
              "      <td>47.0</td>\n",
              "      <td>147.0</td>\n",
              "      <td>4</td>\n",
              "      <td>4.65</td>\n",
              "      <td>0</td>\n",
              "      <td>3.0555</td>\n",
              "      <td>3.0720</td>\n",
              "      <td>3</td>\n",
              "      <td>1</td>\n",
              "      <td>4</td>\n",
              "      <td>2</td>\n",
              "      <td>2</td>\n",
              "      <td>4</td>\n",
              "      <td>1</td>\n",
              "      <td>1</td>\n",
              "      <td>Bacillus licheniformis</td>\n",
              "    </tr>\n",
              "  </tbody>\n",
              "</table>\n",
              "</div>"
            ],
            "text/plain": [
              "    CCS     SO   CMT  ...  TINF - Agente 1  TINF - Agente 2         TINF - Agente 3\n",
              "0   21.0   79.0    2  ...                1                0                     NaN\n",
              "1  249.0  127.0    2  ...                1                1                     NaN\n",
              "2   47.0  147.0    4  ...                1                1  Bacillus licheniformis\n",
              "\n",
              "[3 rows x 16 columns]"
            ]
          },
          "metadata": {
            "tags": []
          },
          "execution_count": 37
        }
      ]
    },
    {
      "cell_type": "markdown",
      "metadata": {
        "id": "Fq_7Bn4EmyD5",
        "colab_type": "text"
      },
      "source": [
        "### TINF - Agente 3"
      ]
    },
    {
      "cell_type": "code",
      "metadata": {
        "id": "sEL6WE1lmyD6",
        "colab_type": "code",
        "colab": {}
      },
      "source": [
        "df['TINF - Agente 3'] = df.apply(lambda x: 0 if pd.isna(x['TINF - Agente 3']) else 1,axis=1)"
      ],
      "execution_count": 0,
      "outputs": []
    },
    {
      "cell_type": "code",
      "metadata": {
        "id": "n_adWxm6myEW",
        "colab_type": "code",
        "colab": {
          "base_uri": "https://localhost:8080/",
          "height": 0
        },
        "outputId": "9ba770d2-be54-4ae4-dee1-3f6fcd0a8b1b"
      },
      "source": [
        "df.head(3)"
      ],
      "execution_count": 39,
      "outputs": [
        {
          "output_type": "execute_result",
          "data": {
            "text/html": [
              "<div>\n",
              "<style scoped>\n",
              "    .dataframe tbody tr th:only-of-type {\n",
              "        vertical-align: middle;\n",
              "    }\n",
              "\n",
              "    .dataframe tbody tr th {\n",
              "        vertical-align: top;\n",
              "    }\n",
              "\n",
              "    .dataframe thead th {\n",
              "        text-align: right;\n",
              "    }\n",
              "</style>\n",
              "<table border=\"1\" class=\"dataframe\">\n",
              "  <thead>\n",
              "    <tr style=\"text-align: right;\">\n",
              "      <th></th>\n",
              "      <th>CCS</th>\n",
              "      <th>SO</th>\n",
              "      <th>CMT</th>\n",
              "      <th>CEL</th>\n",
              "      <th>IMM</th>\n",
              "      <th>ECS</th>\n",
              "      <th>ESO</th>\n",
              "      <th>SOc</th>\n",
              "      <th>ISOL</th>\n",
              "      <th>TINFc</th>\n",
              "      <th>QM</th>\n",
              "      <th>QMc</th>\n",
              "      <th>QMc2</th>\n",
              "      <th>TINF - Agente 1</th>\n",
              "      <th>TINF - Agente 2</th>\n",
              "      <th>TINF - Agente 3</th>\n",
              "    </tr>\n",
              "  </thead>\n",
              "  <tbody>\n",
              "    <tr>\n",
              "      <th>0</th>\n",
              "      <td>21.0</td>\n",
              "      <td>79.0</td>\n",
              "      <td>2</td>\n",
              "      <td>4.23</td>\n",
              "      <td>0</td>\n",
              "      <td>3.0439</td>\n",
              "      <td>3.0630</td>\n",
              "      <td>1</td>\n",
              "      <td>0</td>\n",
              "      <td>3</td>\n",
              "      <td>0</td>\n",
              "      <td>1</td>\n",
              "      <td>1</td>\n",
              "      <td>1</td>\n",
              "      <td>0</td>\n",
              "      <td>0</td>\n",
              "    </tr>\n",
              "    <tr>\n",
              "      <th>1</th>\n",
              "      <td>249.0</td>\n",
              "      <td>127.0</td>\n",
              "      <td>2</td>\n",
              "      <td>3.21</td>\n",
              "      <td>0</td>\n",
              "      <td>3.0796</td>\n",
              "      <td>3.0699</td>\n",
              "      <td>1</td>\n",
              "      <td>1</td>\n",
              "      <td>3</td>\n",
              "      <td>1</td>\n",
              "      <td>1</td>\n",
              "      <td>2</td>\n",
              "      <td>1</td>\n",
              "      <td>1</td>\n",
              "      <td>0</td>\n",
              "    </tr>\n",
              "    <tr>\n",
              "      <th>2</th>\n",
              "      <td>47.0</td>\n",
              "      <td>147.0</td>\n",
              "      <td>4</td>\n",
              "      <td>4.65</td>\n",
              "      <td>0</td>\n",
              "      <td>3.0555</td>\n",
              "      <td>3.0720</td>\n",
              "      <td>3</td>\n",
              "      <td>1</td>\n",
              "      <td>4</td>\n",
              "      <td>2</td>\n",
              "      <td>2</td>\n",
              "      <td>4</td>\n",
              "      <td>1</td>\n",
              "      <td>1</td>\n",
              "      <td>1</td>\n",
              "    </tr>\n",
              "  </tbody>\n",
              "</table>\n",
              "</div>"
            ],
            "text/plain": [
              "    CCS     SO   CMT  ...  TINF - Agente 1  TINF - Agente 2  TINF - Agente 3\n",
              "0   21.0   79.0    2  ...                1                0                0\n",
              "1  249.0  127.0    2  ...                1                1                0\n",
              "2   47.0  147.0    4  ...                1                1                1\n",
              "\n",
              "[3 rows x 16 columns]"
            ]
          },
          "metadata": {
            "tags": []
          },
          "execution_count": 39
        }
      ]
    },
    {
      "cell_type": "markdown",
      "metadata": {
        "id": "dvdWkQ8DmyEg",
        "colab_type": "text"
      },
      "source": [
        "# 3 - Análise dos Dados"
      ]
    },
    {
      "cell_type": "code",
      "metadata": {
        "id": "mhUHc4GemyEh",
        "colab_type": "code",
        "colab": {
          "base_uri": "https://localhost:8080/",
          "height": 334
        },
        "outputId": "9a973f27-f5db-4404-c33b-96a45c294a93"
      },
      "source": [
        "df.describe()"
      ],
      "execution_count": 40,
      "outputs": [
        {
          "output_type": "execute_result",
          "data": {
            "text/html": [
              "<div>\n",
              "<style scoped>\n",
              "    .dataframe tbody tr th:only-of-type {\n",
              "        vertical-align: middle;\n",
              "    }\n",
              "\n",
              "    .dataframe tbody tr th {\n",
              "        vertical-align: top;\n",
              "    }\n",
              "\n",
              "    .dataframe thead th {\n",
              "        text-align: right;\n",
              "    }\n",
              "</style>\n",
              "<table border=\"1\" class=\"dataframe\">\n",
              "  <thead>\n",
              "    <tr style=\"text-align: right;\">\n",
              "      <th></th>\n",
              "      <th>CCS</th>\n",
              "      <th>SO</th>\n",
              "      <th>CMT</th>\n",
              "      <th>CEL</th>\n",
              "      <th>IMM</th>\n",
              "      <th>ECS</th>\n",
              "      <th>ESO</th>\n",
              "      <th>SOc</th>\n",
              "      <th>ISOL</th>\n",
              "      <th>TINFc</th>\n",
              "      <th>QM</th>\n",
              "      <th>QMc</th>\n",
              "      <th>QMc2</th>\n",
              "      <th>TINF - Agente 1</th>\n",
              "      <th>TINF - Agente 2</th>\n",
              "      <th>TINF - Agente 3</th>\n",
              "    </tr>\n",
              "  </thead>\n",
              "  <tbody>\n",
              "    <tr>\n",
              "      <th>count</th>\n",
              "      <td>275.000000</td>\n",
              "      <td>275.000000</td>\n",
              "      <td>275.000000</td>\n",
              "      <td>275.000000</td>\n",
              "      <td>275.000000</td>\n",
              "      <td>275.000000</td>\n",
              "      <td>275.000000</td>\n",
              "      <td>275.000000</td>\n",
              "      <td>275.000000</td>\n",
              "      <td>275.000000</td>\n",
              "      <td>275.000000</td>\n",
              "      <td>275.000000</td>\n",
              "      <td>275.000000</td>\n",
              "      <td>275.000000</td>\n",
              "      <td>275.000000</td>\n",
              "      <td>275.000000</td>\n",
              "    </tr>\n",
              "    <tr>\n",
              "      <th>mean</th>\n",
              "      <td>1018.600000</td>\n",
              "      <td>638.185455</td>\n",
              "      <td>1.796364</td>\n",
              "      <td>4.700182</td>\n",
              "      <td>0.312727</td>\n",
              "      <td>3.082453</td>\n",
              "      <td>3.085696</td>\n",
              "      <td>2.207273</td>\n",
              "      <td>0.807273</td>\n",
              "      <td>2.330909</td>\n",
              "      <td>1.825455</td>\n",
              "      <td>1.614545</td>\n",
              "      <td>2.800000</td>\n",
              "      <td>0.687273</td>\n",
              "      <td>0.181818</td>\n",
              "      <td>0.021818</td>\n",
              "    </tr>\n",
              "    <tr>\n",
              "      <th>std</th>\n",
              "      <td>1868.834472</td>\n",
              "      <td>611.304324</td>\n",
              "      <td>1.430375</td>\n",
              "      <td>1.198817</td>\n",
              "      <td>0.464449</td>\n",
              "      <td>0.023792</td>\n",
              "      <td>0.015585</td>\n",
              "      <td>0.886199</td>\n",
              "      <td>0.885375</td>\n",
              "      <td>1.299758</td>\n",
              "      <td>1.045710</td>\n",
              "      <td>0.487590</td>\n",
              "      <td>1.035854</td>\n",
              "      <td>0.464449</td>\n",
              "      <td>0.386398</td>\n",
              "      <td>0.146356</td>\n",
              "    </tr>\n",
              "    <tr>\n",
              "      <th>min</th>\n",
              "      <td>6.000000</td>\n",
              "      <td>69.000000</td>\n",
              "      <td>0.000000</td>\n",
              "      <td>2.890000</td>\n",
              "      <td>0.000000</td>\n",
              "      <td>3.025800</td>\n",
              "      <td>3.061100</td>\n",
              "      <td>1.000000</td>\n",
              "      <td>0.000000</td>\n",
              "      <td>1.000000</td>\n",
              "      <td>0.000000</td>\n",
              "      <td>1.000000</td>\n",
              "      <td>1.000000</td>\n",
              "      <td>0.000000</td>\n",
              "      <td>0.000000</td>\n",
              "      <td>0.000000</td>\n",
              "    </tr>\n",
              "    <tr>\n",
              "      <th>25%</th>\n",
              "      <td>94.500000</td>\n",
              "      <td>127.000000</td>\n",
              "      <td>0.000000</td>\n",
              "      <td>3.860000</td>\n",
              "      <td>0.000000</td>\n",
              "      <td>3.065600</td>\n",
              "      <td>3.069900</td>\n",
              "      <td>1.000000</td>\n",
              "      <td>0.000000</td>\n",
              "      <td>1.000000</td>\n",
              "      <td>1.000000</td>\n",
              "      <td>1.000000</td>\n",
              "      <td>2.000000</td>\n",
              "      <td>0.000000</td>\n",
              "      <td>0.000000</td>\n",
              "      <td>0.000000</td>\n",
              "    </tr>\n",
              "    <tr>\n",
              "      <th>50%</th>\n",
              "      <td>320.000000</td>\n",
              "      <td>418.000000</td>\n",
              "      <td>2.000000</td>\n",
              "      <td>4.340000</td>\n",
              "      <td>0.000000</td>\n",
              "      <td>3.083200</td>\n",
              "      <td>3.087100</td>\n",
              "      <td>3.000000</td>\n",
              "      <td>0.000000</td>\n",
              "      <td>2.000000</td>\n",
              "      <td>2.000000</td>\n",
              "      <td>2.000000</td>\n",
              "      <td>3.000000</td>\n",
              "      <td>1.000000</td>\n",
              "      <td>0.000000</td>\n",
              "      <td>0.000000</td>\n",
              "    </tr>\n",
              "    <tr>\n",
              "      <th>75%</th>\n",
              "      <td>926.500000</td>\n",
              "      <td>960.000000</td>\n",
              "      <td>3.000000</td>\n",
              "      <td>5.275000</td>\n",
              "      <td>1.000000</td>\n",
              "      <td>3.098550</td>\n",
              "      <td>3.099100</td>\n",
              "      <td>3.000000</td>\n",
              "      <td>2.000000</td>\n",
              "      <td>3.000000</td>\n",
              "      <td>3.000000</td>\n",
              "      <td>2.000000</td>\n",
              "      <td>4.000000</td>\n",
              "      <td>1.000000</td>\n",
              "      <td>0.000000</td>\n",
              "      <td>0.000000</td>\n",
              "    </tr>\n",
              "    <tr>\n",
              "      <th>max</th>\n",
              "      <td>9999.000000</td>\n",
              "      <td>1970.000000</td>\n",
              "      <td>4.000000</td>\n",
              "      <td>9.720000</td>\n",
              "      <td>1.000000</td>\n",
              "      <td>3.132900</td>\n",
              "      <td>3.109400</td>\n",
              "      <td>3.000000</td>\n",
              "      <td>2.000000</td>\n",
              "      <td>5.000000</td>\n",
              "      <td>4.000000</td>\n",
              "      <td>2.000000</td>\n",
              "      <td>4.000000</td>\n",
              "      <td>1.000000</td>\n",
              "      <td>1.000000</td>\n",
              "      <td>1.000000</td>\n",
              "    </tr>\n",
              "  </tbody>\n",
              "</table>\n",
              "</div>"
            ],
            "text/plain": [
              "              CCS           SO   ...  TINF - Agente 2  TINF - Agente 3\n",
              "count   275.000000   275.000000  ...       275.000000       275.000000\n",
              "mean   1018.600000   638.185455  ...         0.181818         0.021818\n",
              "std    1868.834472   611.304324  ...         0.386398         0.146356\n",
              "min       6.000000    69.000000  ...         0.000000         0.000000\n",
              "25%      94.500000   127.000000  ...         0.000000         0.000000\n",
              "50%     320.000000   418.000000  ...         0.000000         0.000000\n",
              "75%     926.500000   960.000000  ...         0.000000         0.000000\n",
              "max    9999.000000  1970.000000  ...         1.000000         1.000000\n",
              "\n",
              "[8 rows x 16 columns]"
            ]
          },
          "metadata": {
            "tags": []
          },
          "execution_count": 40
        }
      ]
    },
    {
      "cell_type": "code",
      "metadata": {
        "id": "TeUsm9BRmyEl",
        "colab_type": "code",
        "colab": {
          "base_uri": "https://localhost:8080/",
          "height": 296
        },
        "outputId": "bd07b463-4e9f-422e-a4c4-4448c04c15b9"
      },
      "source": [
        "g = sns.countplot(x='IMM',data=df)\n",
        "g.set(xticklabels=['Doente','Sadio'])"
      ],
      "execution_count": 41,
      "outputs": [
        {
          "output_type": "execute_result",
          "data": {
            "text/plain": [
              "[[Text(0, 0, 'Doente'), Text(0, 0, 'Sadio')]]"
            ]
          },
          "metadata": {
            "tags": []
          },
          "execution_count": 41
        },
        {
          "output_type": "display_data",
          "data": {
            "image/png": "[encoded data removed]",
            "text/plain": [
              "<Figure size 432x288 with 1 Axes>"
            ]
          },
          "metadata": {
            "tags": [],
            "needs_background": "light"
          }
        }
      ]
    },
    {
      "cell_type": "code",
      "metadata": {
        "id": "0luex4HSmyEo",
        "colab_type": "code",
        "colab": {
          "base_uri": "https://localhost:8080/",
          "height": 500
        },
        "outputId": "cdea779b-1561-4203-e1e9-bc7f9b572a50"
      },
      "source": [
        "fig,ax = plt.subplots(figsize=(12,7))\n",
        "g = sns.heatmap(df.corr(),annot=True,fmt=\".1f\",cmap=\"coolwarm\",ax=ax)"
      ],
      "execution_count": 42,
      "outputs": [
        {
          "output_type": "display_data",
          "data": {
            "image/png": "[encoded data removed]",
            "text/plain": [
              "<Figure size 864x504 with 2 Axes>"
            ]
          },
          "metadata": {
            "tags": [],
            "needs_background": "light"
          }
        }
      ]
    },
    {
      "cell_type": "markdown",
      "metadata": {
        "id": "OATr4hx4myEr",
        "colab_type": "text"
      },
      "source": [
        "# 4 - Predição"
      ]
    },
    {
      "cell_type": "code",
      "metadata": {
        "id": "PAAEoXi4myEs",
        "colab_type": "code",
        "colab": {}
      },
      "source": [
        "list_colunas = df.columns.drop('IMM')"
      ],
      "execution_count": 0,
      "outputs": []
    },
    {
      "cell_type": "code",
      "metadata": {
        "id": "jL3WuI4kmyE0",
        "colab_type": "code",
        "colab": {
          "base_uri": "https://localhost:8080/",
          "height": 85
        },
        "outputId": "fbabca07-b079-47bf-e5e4-46c2e9e30ae0"
      },
      "source": [
        "list_colunas"
      ],
      "execution_count": 44,
      "outputs": [
        {
          "output_type": "execute_result",
          "data": {
            "text/plain": [
              "Index([' CCS ', ' SO ', 'CMT', 'CEL', ' ECS ', ' ESO ', ' SOc ', 'ISOL',\n",
              "       'TINFc', 'QM', 'QMc', 'QMc2', 'TINF - Agente 1', 'TINF - Agente 2',\n",
              "       'TINF - Agente 3'],\n",
              "      dtype='object')"
            ]
          },
          "metadata": {
            "tags": []
          },
          "execution_count": 44
        }
      ]
    },
    {
      "cell_type": "code",
      "metadata": {
        "id": "bZjfCgDymyE5",
        "colab_type": "code",
        "colab": {}
      },
      "source": [
        "x = df.loc[:,list_colunas]"
      ],
      "execution_count": 0,
      "outputs": []
    },
    {
      "cell_type": "code",
      "metadata": {
        "id": "AER1JO-PmyE8",
        "colab_type": "code",
        "colab": {
          "base_uri": "https://localhost:8080/",
          "height": 142
        },
        "outputId": "f155f9b0-f37c-484d-a865-295115dbbf72"
      },
      "source": [
        "x.head(3)"
      ],
      "execution_count": 46,
      "outputs": [
        {
          "output_type": "execute_result",
          "data": {
            "text/html": [
              "<div>\n",
              "<style scoped>\n",
              "    .dataframe tbody tr th:only-of-type {\n",
              "        vertical-align: middle;\n",
              "    }\n",
              "\n",
              "    .dataframe tbody tr th {\n",
              "        vertical-align: top;\n",
              "    }\n",
              "\n",
              "    .dataframe thead th {\n",
              "        text-align: right;\n",
              "    }\n",
              "</style>\n",
              "<table border=\"1\" class=\"dataframe\">\n",
              "  <thead>\n",
              "    <tr style=\"text-align: right;\">\n",
              "      <th></th>\n",
              "      <th>CCS</th>\n",
              "      <th>SO</th>\n",
              "      <th>CMT</th>\n",
              "      <th>CEL</th>\n",
              "      <th>ECS</th>\n",
              "      <th>ESO</th>\n",
              "      <th>SOc</th>\n",
              "      <th>ISOL</th>\n",
              "      <th>TINFc</th>\n",
              "      <th>QM</th>\n",
              "      <th>QMc</th>\n",
              "      <th>QMc2</th>\n",
              "      <th>TINF - Agente 1</th>\n",
              "      <th>TINF - Agente 2</th>\n",
              "      <th>TINF - Agente 3</th>\n",
              "    </tr>\n",
              "  </thead>\n",
              "  <tbody>\n",
              "    <tr>\n",
              "      <th>0</th>\n",
              "      <td>21.0</td>\n",
              "      <td>79.0</td>\n",
              "      <td>2</td>\n",
              "      <td>4.23</td>\n",
              "      <td>3.0439</td>\n",
              "      <td>3.0630</td>\n",
              "      <td>1</td>\n",
              "      <td>0</td>\n",
              "      <td>3</td>\n",
              "      <td>0</td>\n",
              "      <td>1</td>\n",
              "      <td>1</td>\n",
              "      <td>1</td>\n",
              "      <td>0</td>\n",
              "      <td>0</td>\n",
              "    </tr>\n",
              "    <tr>\n",
              "      <th>1</th>\n",
              "      <td>249.0</td>\n",
              "      <td>127.0</td>\n",
              "      <td>2</td>\n",
              "      <td>3.21</td>\n",
              "      <td>3.0796</td>\n",
              "      <td>3.0699</td>\n",
              "      <td>1</td>\n",
              "      <td>1</td>\n",
              "      <td>3</td>\n",
              "      <td>1</td>\n",
              "      <td>1</td>\n",
              "      <td>2</td>\n",
              "      <td>1</td>\n",
              "      <td>1</td>\n",
              "      <td>0</td>\n",
              "    </tr>\n",
              "    <tr>\n",
              "      <th>2</th>\n",
              "      <td>47.0</td>\n",
              "      <td>147.0</td>\n",
              "      <td>4</td>\n",
              "      <td>4.65</td>\n",
              "      <td>3.0555</td>\n",
              "      <td>3.0720</td>\n",
              "      <td>3</td>\n",
              "      <td>1</td>\n",
              "      <td>4</td>\n",
              "      <td>2</td>\n",
              "      <td>2</td>\n",
              "      <td>4</td>\n",
              "      <td>1</td>\n",
              "      <td>1</td>\n",
              "      <td>1</td>\n",
              "    </tr>\n",
              "  </tbody>\n",
              "</table>\n",
              "</div>"
            ],
            "text/plain": [
              "    CCS     SO   CMT  ...  TINF - Agente 1  TINF - Agente 2  TINF - Agente 3\n",
              "0   21.0   79.0    2  ...                1                0                0\n",
              "1  249.0  127.0    2  ...                1                1                0\n",
              "2   47.0  147.0    4  ...                1                1                1\n",
              "\n",
              "[3 rows x 15 columns]"
            ]
          },
          "metadata": {
            "tags": []
          },
          "execution_count": 46
        }
      ]
    },
    {
      "cell_type": "code",
      "metadata": {
        "id": "AyhK-tjHmyFF",
        "colab_type": "code",
        "colab": {}
      },
      "source": [
        "y = df['IMM']"
      ],
      "execution_count": 0,
      "outputs": []
    },
    {
      "cell_type": "code",
      "metadata": {
        "id": "EECogBg9myFK",
        "colab_type": "code",
        "colab": {
          "base_uri": "https://localhost:8080/",
          "height": 85
        },
        "outputId": "116b5024-a517-4198-a3f1-e2e4feaeeb44"
      },
      "source": [
        "y.head(3)"
      ],
      "execution_count": 48,
      "outputs": [
        {
          "output_type": "execute_result",
          "data": {
            "text/plain": [
              "0    0\n",
              "1    0\n",
              "2    0\n",
              "Name: IMM, dtype: int64"
            ]
          },
          "metadata": {
            "tags": []
          },
          "execution_count": 48
        }
      ]
    },
    {
      "cell_type": "markdown",
      "metadata": {
        "id": "A56yZOF_myFW",
        "colab_type": "text"
      },
      "source": [
        "### Support Vector Classifier"
      ]
    },
    {
      "cell_type": "code",
      "metadata": {
        "id": "Dqbq6P9UmyFX",
        "colab_type": "code",
        "colab": {}
      },
      "source": [
        "svc_clf = SVC(kernel='poly',gamma='scale')"
      ],
      "execution_count": 0,
      "outputs": []
    },
    {
      "cell_type": "code",
      "metadata": {
        "id": "h4zQ1C_wmyFc",
        "colab_type": "code",
        "colab": {}
      },
      "source": [
        "svc_scores = cross_val_score(svc_clf, x, y, cv=10)"
      ],
      "execution_count": 0,
      "outputs": []
    },
    {
      "cell_type": "code",
      "metadata": {
        "id": "MyKf6e43myFl",
        "colab_type": "code",
        "colab": {
          "base_uri": "https://localhost:8080/",
          "height": 0
        },
        "outputId": "7de5e8ae-36f0-46d5-cec2-36040a28248f"
      },
      "source": [
        "'Acuidade = %0.4f (+/- %0.4f)' % (svc_scores.mean(),svc_scores.std() * 2)"
      ],
      "execution_count": 51,
      "outputs": [
        {
          "output_type": "execute_result",
          "data": {
            "text/plain": [
              "'Acuidade = 0.6874 (+/- 0.0274)'"
            ]
          },
          "metadata": {
            "tags": []
          },
          "execution_count": 51
        }
      ]
    },
    {
      "cell_type": "markdown",
      "metadata": {
        "id": "vItsiGm-myFq",
        "colab_type": "text"
      },
      "source": [
        "### k-Nearest Neighbors Classifier"
      ]
    },
    {
      "cell_type": "code",
      "metadata": {
        "id": "ABYedRBzmyFr",
        "colab_type": "code",
        "colab": {}
      },
      "source": [
        "knn_clf = KNeighborsClassifier(n_neighbors=5)"
      ],
      "execution_count": 0,
      "outputs": []
    },
    {
      "cell_type": "code",
      "metadata": {
        "id": "5eMsHJfTmyFv",
        "colab_type": "code",
        "colab": {}
      },
      "source": [
        "knn_scores = cross_val_score(knn_clf,x,y,cv=10)"
      ],
      "execution_count": 0,
      "outputs": []
    },
    {
      "cell_type": "code",
      "metadata": {
        "id": "W56ONiJImyF2",
        "colab_type": "code",
        "colab": {
          "base_uri": "https://localhost:8080/",
          "height": 0
        },
        "outputId": "aa2a3535-c8de-45d8-f08b-0edb28736e0d"
      },
      "source": [
        "'Acuidade = %0.4f (+/- %0.4f)' % (knn_scores.mean(),knn_scores.std() * 2)"
      ],
      "execution_count": 54,
      "outputs": [
        {
          "output_type": "execute_result",
          "data": {
            "text/plain": [
              "'Acuidade = 0.6552 (+/- 0.1672)'"
            ]
          },
          "metadata": {
            "tags": []
          },
          "execution_count": 54
        }
      ]
    },
    {
      "cell_type": "markdown",
      "metadata": {
        "id": "mo0XSLp4myF5",
        "colab_type": "text"
      },
      "source": [
        "### Gaussian Naive Bayes Classifier"
      ]
    },
    {
      "cell_type": "code",
      "metadata": {
        "id": "xChKVEPMmyF5",
        "colab_type": "code",
        "colab": {}
      },
      "source": [
        "nb_clf = GaussianNB()"
      ],
      "execution_count": 0,
      "outputs": []
    },
    {
      "cell_type": "code",
      "metadata": {
        "id": "ZrZPTIk1myF7",
        "colab_type": "code",
        "colab": {}
      },
      "source": [
        "nb_scores = cross_val_score(nb_clf,x,y,cv=10)"
      ],
      "execution_count": 0,
      "outputs": []
    },
    {
      "cell_type": "code",
      "metadata": {
        "id": "TD-7jSWdmyGG",
        "colab_type": "code",
        "colab": {
          "base_uri": "https://localhost:8080/",
          "height": 0
        },
        "outputId": "25002926-ee72-421a-d43e-11b3d505850c"
      },
      "source": [
        "'Acuidade = %0.4f (+/- %0.4f)' % (nb_scores.mean(),nb_scores.std() * 2)"
      ],
      "execution_count": 57,
      "outputs": [
        {
          "output_type": "execute_result",
          "data": {
            "text/plain": [
              "'Acuidade = 1.0000 (+/- 0.0000)'"
            ]
          },
          "metadata": {
            "tags": []
          },
          "execution_count": 57
        }
      ]
    },
    {
      "cell_type": "markdown",
      "metadata": {
        "id": "fC0J4GFlmyGJ",
        "colab_type": "text"
      },
      "source": [
        "### Multi-layer Perceptron Classifier"
      ]
    },
    {
      "cell_type": "code",
      "metadata": {
        "id": "wnItR_6jmyGK",
        "colab_type": "code",
        "colab": {}
      },
      "source": [
        "mlp_clf = MLPClassifier()"
      ],
      "execution_count": 0,
      "outputs": []
    },
    {
      "cell_type": "code",
      "metadata": {
        "id": "mwSri3qfmyGY",
        "colab_type": "code",
        "colab": {}
      },
      "source": [
        "mlp_scores = cross_val_score(mlp_clf,x,y,cv=10)"
      ],
      "execution_count": 0,
      "outputs": []
    },
    {
      "cell_type": "code",
      "metadata": {
        "id": "ISu2XvGAmyGb",
        "colab_type": "code",
        "colab": {
          "base_uri": "https://localhost:8080/",
          "height": 0
        },
        "outputId": "219c0809-5a14-462c-caf9-b44189087a1a"
      },
      "source": [
        "'Acuidade = %0.4f (+/- %0.4f)' % (mlp_scores.mean(),mlp_scores.std() * 2)"
      ],
      "execution_count": 60,
      "outputs": [
        {
          "output_type": "execute_result",
          "data": {
            "text/plain": [
              "'Acuidade = 0.6821 (+/- 0.3443)'"
            ]
          },
          "metadata": {
            "tags": []
          },
          "execution_count": 60
        }
      ]
    },
    {
      "cell_type": "markdown",
      "metadata": {
        "id": "ZYQM4fHnmyGg",
        "colab_type": "text"
      },
      "source": [
        "### Decision Tree Classifier"
      ]
    },
    {
      "cell_type": "code",
      "metadata": {
        "id": "Z4X5QC4bmyGg",
        "colab_type": "code",
        "colab": {}
      },
      "source": [
        "dt_clf = DecisionTreeClassifier()"
      ],
      "execution_count": 0,
      "outputs": []
    },
    {
      "cell_type": "code",
      "metadata": {
        "id": "2c5Ot-7ZmyGo",
        "colab_type": "code",
        "colab": {}
      },
      "source": [
        "dt_scores = cross_val_score(dt_clf,x,y,cv=10)"
      ],
      "execution_count": 0,
      "outputs": []
    },
    {
      "cell_type": "code",
      "metadata": {
        "id": "ugo0xomkmyGq",
        "colab_type": "code",
        "colab": {
          "base_uri": "https://localhost:8080/",
          "height": 34
        },
        "outputId": "563cb27c-60c1-4785-ddbf-7ceef3ad35c3"
      },
      "source": [
        "'Acuidade = %0.4f (+/- %0.4f)' % (dt_scores.mean(),dt_scores.std() * 2)"
      ],
      "execution_count": 63,
      "outputs": [
        {
          "output_type": "execute_result",
          "data": {
            "text/plain": [
              "'Acuidade = 1.0000 (+/- 0.0000)'"
            ]
          },
          "metadata": {
            "tags": []
          },
          "execution_count": 63
        }
      ]
    }
  ]
}