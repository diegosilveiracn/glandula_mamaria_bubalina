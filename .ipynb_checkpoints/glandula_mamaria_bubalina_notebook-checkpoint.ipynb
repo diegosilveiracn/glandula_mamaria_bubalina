{
 "cells": [
  {
   "cell_type": "markdown",
   "metadata": {},
   "source": [
    "# Glândula Mamária Bubalina\n",
    "O presente notebook faz um estudo sobre a dectecção de infecção em glândula mamária bubalina a partir de exames do leite.\n",
    "\n",
    "### Atributos\n",
    "CCS - Contagem de Células Somáticas do leite (mil células/mL)\n",
    "\n",
    "SO - Teste Somaticell (mil celulas/mL)\n",
    "\n",
    "CMT - California Mastitis Test (escore)\n",
    "\n",
    "CEL - Condutividade Elétrica do Leite (miliSiems/cm)\n",
    "\n",
    "ECS - Log de CCS\n",
    "\n",
    "ESD - Log de SO\n",
    "\n",
    "ISOL - Tipo da presença dos microrganismos (Ne: Negativa; I: individual - isolamento de apenas um microrganismo; e M: mista - isolameto de 2 ou 3 microrganismo)\n",
    "\n",
    "TINFc - Característica da infecção (0: Negativa; 1: contagiosa; 2: ambiental; 4: contagiosa + ambiental; e 5: oportunista)\n",
    "\n",
    "QM - Posição do quarto mamário (AE: Anterior esquerdo; AD: anterior direito; PE: posterior esquerdo; e PD: posterior direito)\n",
    "\n",
    "QMc - Posição do quarto mamário codificada para duas posições (1: anterior; e 2: posterior)\n",
    "\n",
    "QMc2 - Posição do quarto mamário codificada para quatro posições (1: AD; 2: AE; 3: PE; e 4: PD)\n",
    "\n",
    "TINF (Agente 1) - Diferentes microrganismos isolados\n",
    "\n",
    "TINF (Agente 2) - Diferentes microrganismos isolados\n",
    "\n",
    "TINF (Agente 3) - Diferentes microrganismos isolados\n",
    "\n",
    "### Classe\n",
    "IMM - Microbiologia (D: Doente; e S: Sadio)\n",
    "\n",
    "#### Organização do notebook\n",
    "\n",
    "<ol>\n",
    "    <li>Bibliotecas</li>\n",
    "    <li>Limpeza e Transformação dos Dados</li>\n",
    "    <li>Análise dos Dados</li>\n",
    "    <li>Predição</li>\n",
    "</ol>\n",
    "\n",
    "\n",
    "# 1 - Bibliotecas"
   ]
  },
  {
   "cell_type": "code",
   "execution_count": 1,
   "metadata": {},
   "outputs": [],
   "source": [
    "import pandas as pd"
   ]
  },
  {
   "cell_type": "code",
   "execution_count": 2,
   "metadata": {},
   "outputs": [],
   "source": [
    "import matplotlib.pyplot as plt\n",
    "import seaborn as sns\n",
    "\n",
    "%matplotlib inline"
   ]
  },
  {
   "cell_type": "code",
   "execution_count": 3,
   "metadata": {},
   "outputs": [],
   "source": [
    "from sklearn.model_selection import cross_val_score\n",
    "from sklearn.svm import SVC\n",
    "from sklearn.ensemble import RandomForestClassifier\n",
    "from sklearn.neighbors import KNeighborsClassifier\n",
    "from sklearn.naive_bayes import GaussianNB\n",
    "from sklearn.tree import DecisionTreeClassifier\n",
    "from sklearn.neural_network import MLPClassifier"
   ]
  },
  {
   "cell_type": "markdown",
   "metadata": {},
   "source": [
    "# 2 - Limpeza e Transformação dos Dados"
   ]
  },
  {
   "cell_type": "code",
   "execution_count": 4,
   "metadata": {},
   "outputs": [],
   "source": [
    "df = pd.read_csv('dados_completo.csv')"
   ]
  },
  {
   "cell_type": "code",
   "execution_count": 5,
   "metadata": {},
   "outputs": [
    {
     "data": {
      "text/html": [
       "<div>\n",
       "<style scoped>\n",
       "    .dataframe tbody tr th:only-of-type {\n",
       "        vertical-align: middle;\n",
       "    }\n",
       "\n",
       "    .dataframe tbody tr th {\n",
       "        vertical-align: top;\n",
       "    }\n",
       "\n",
       "    .dataframe thead th {\n",
       "        text-align: right;\n",
       "    }\n",
       "</style>\n",
       "<table border=\"1\" class=\"dataframe\">\n",
       "  <thead>\n",
       "    <tr style=\"text-align: right;\">\n",
       "      <th></th>\n",
       "      <th>Amostra</th>\n",
       "      <th>CCS</th>\n",
       "      <th>SO</th>\n",
       "      <th>CMT</th>\n",
       "      <th>CEL</th>\n",
       "      <th>IMM</th>\n",
       "      <th>ECS</th>\n",
       "      <th>ESO</th>\n",
       "      <th>SOc</th>\n",
       "      <th>ISOL</th>\n",
       "      <th>TINFc</th>\n",
       "      <th>QM</th>\n",
       "      <th>QMc</th>\n",
       "      <th>QMc2</th>\n",
       "      <th>TINF - Agente 1</th>\n",
       "      <th>TINF - Agente 2</th>\n",
       "      <th>TINF - Agente 3</th>\n",
       "    </tr>\n",
       "  </thead>\n",
       "  <tbody>\n",
       "    <tr>\n",
       "      <td>0</td>\n",
       "      <td>9</td>\n",
       "      <td>21.0</td>\n",
       "      <td>79.0</td>\n",
       "      <td>2</td>\n",
       "      <td>4.23</td>\n",
       "      <td>D</td>\n",
       "      <td>3.0439</td>\n",
       "      <td>3.0630</td>\n",
       "      <td>1</td>\n",
       "      <td>I</td>\n",
       "      <td>3</td>\n",
       "      <td>AD</td>\n",
       "      <td>1</td>\n",
       "      <td>1</td>\n",
       "      <td>Bacillus licheniformis</td>\n",
       "      <td>NaN</td>\n",
       "      <td>NaN</td>\n",
       "    </tr>\n",
       "    <tr>\n",
       "      <td>1</td>\n",
       "      <td>12</td>\n",
       "      <td>249.0</td>\n",
       "      <td>127.0</td>\n",
       "      <td>2</td>\n",
       "      <td>3.21</td>\n",
       "      <td>D</td>\n",
       "      <td>3.0796</td>\n",
       "      <td>3.0699</td>\n",
       "      <td>1</td>\n",
       "      <td>M</td>\n",
       "      <td>3</td>\n",
       "      <td>AE</td>\n",
       "      <td>1</td>\n",
       "      <td>2</td>\n",
       "      <td>Staphylococcus chromogenes</td>\n",
       "      <td>Klebsiella spp</td>\n",
       "      <td>NaN</td>\n",
       "    </tr>\n",
       "    <tr>\n",
       "      <td>2</td>\n",
       "      <td>13</td>\n",
       "      <td>47.0</td>\n",
       "      <td>147.0</td>\n",
       "      <td>4</td>\n",
       "      <td>4.65</td>\n",
       "      <td>D</td>\n",
       "      <td>3.0555</td>\n",
       "      <td>3.0720</td>\n",
       "      <td>3</td>\n",
       "      <td>M</td>\n",
       "      <td>4</td>\n",
       "      <td>PE</td>\n",
       "      <td>2</td>\n",
       "      <td>4</td>\n",
       "      <td>Streptococcus uberis</td>\n",
       "      <td>Klebsiella spp</td>\n",
       "      <td>Bacillus licheniformis</td>\n",
       "    </tr>\n",
       "  </tbody>\n",
       "</table>\n",
       "</div>"
      ],
      "text/plain": [
       "  Amostra   CCS     SO   CMT   CEL IMM    ECS     ESO    SOc  ISOL  TINFc  QM  \\\n",
       "0       9   21.0   79.0    2  4.23   D  3.0439  3.0630      1    I      3  AD   \n",
       "1      12  249.0  127.0    2  3.21   D  3.0796  3.0699      1    M      3  AE   \n",
       "2      13   47.0  147.0    4  4.65   D  3.0555  3.0720      3    M      4  PE   \n",
       "\n",
       "   QMc  QMc2             TINF - Agente 1 TINF - Agente 2  \\\n",
       "0    1     1      Bacillus licheniformis             NaN   \n",
       "1    1     2  Staphylococcus chromogenes  Klebsiella spp   \n",
       "2    2     4        Streptococcus uberis  Klebsiella spp   \n",
       "\n",
       "          TINF - Agente 3  \n",
       "0                     NaN  \n",
       "1                     NaN  \n",
       "2  Bacillus licheniformis  "
      ]
     },
     "execution_count": 5,
     "metadata": {},
     "output_type": "execute_result"
    }
   ],
   "source": [
    "df.head(3)"
   ]
  },
  {
   "cell_type": "code",
   "execution_count": 6,
   "metadata": {},
   "outputs": [
    {
     "name": "stdout",
     "output_type": "stream",
     "text": [
      "<class 'pandas.core.frame.DataFrame'>\n",
      "RangeIndex: 275 entries, 0 to 274\n",
      "Data columns (total 17 columns):\n",
      "Amostra            275 non-null object\n",
      " CCS               275 non-null float64\n",
      " SO                275 non-null float64\n",
      "CMT                275 non-null int64\n",
      "CEL                275 non-null float64\n",
      "IMM                275 non-null object\n",
      " ECS               275 non-null float64\n",
      " ESO               275 non-null float64\n",
      " SOc               275 non-null int64\n",
      "ISOL               275 non-null object\n",
      "TINFc              275 non-null int64\n",
      "QM                 275 non-null object\n",
      "QMc                275 non-null int64\n",
      "QMc2               275 non-null int64\n",
      "TINF - Agente 1    189 non-null object\n",
      "TINF - Agente 2    50 non-null object\n",
      "TINF - Agente 3    6 non-null object\n",
      "dtypes: float64(5), int64(5), object(7)\n",
      "memory usage: 36.6+ KB\n"
     ]
    }
   ],
   "source": [
    "df.info()"
   ]
  },
  {
   "cell_type": "markdown",
   "metadata": {},
   "source": [
    "### Amostra"
   ]
  },
  {
   "cell_type": "code",
   "execution_count": 7,
   "metadata": {},
   "outputs": [],
   "source": [
    "df.drop('Amostra',axis=1,inplace=True)"
   ]
  },
  {
   "cell_type": "code",
   "execution_count": 8,
   "metadata": {},
   "outputs": [
    {
     "data": {
      "text/html": [
       "<div>\n",
       "<style scoped>\n",
       "    .dataframe tbody tr th:only-of-type {\n",
       "        vertical-align: middle;\n",
       "    }\n",
       "\n",
       "    .dataframe tbody tr th {\n",
       "        vertical-align: top;\n",
       "    }\n",
       "\n",
       "    .dataframe thead th {\n",
       "        text-align: right;\n",
       "    }\n",
       "</style>\n",
       "<table border=\"1\" class=\"dataframe\">\n",
       "  <thead>\n",
       "    <tr style=\"text-align: right;\">\n",
       "      <th></th>\n",
       "      <th>CCS</th>\n",
       "      <th>SO</th>\n",
       "      <th>CMT</th>\n",
       "      <th>CEL</th>\n",
       "      <th>IMM</th>\n",
       "      <th>ECS</th>\n",
       "      <th>ESO</th>\n",
       "      <th>SOc</th>\n",
       "      <th>ISOL</th>\n",
       "      <th>TINFc</th>\n",
       "      <th>QM</th>\n",
       "      <th>QMc</th>\n",
       "      <th>QMc2</th>\n",
       "      <th>TINF - Agente 1</th>\n",
       "      <th>TINF - Agente 2</th>\n",
       "      <th>TINF - Agente 3</th>\n",
       "    </tr>\n",
       "  </thead>\n",
       "  <tbody>\n",
       "    <tr>\n",
       "      <td>0</td>\n",
       "      <td>21.0</td>\n",
       "      <td>79.0</td>\n",
       "      <td>2</td>\n",
       "      <td>4.23</td>\n",
       "      <td>D</td>\n",
       "      <td>3.0439</td>\n",
       "      <td>3.0630</td>\n",
       "      <td>1</td>\n",
       "      <td>I</td>\n",
       "      <td>3</td>\n",
       "      <td>AD</td>\n",
       "      <td>1</td>\n",
       "      <td>1</td>\n",
       "      <td>Bacillus licheniformis</td>\n",
       "      <td>NaN</td>\n",
       "      <td>NaN</td>\n",
       "    </tr>\n",
       "    <tr>\n",
       "      <td>1</td>\n",
       "      <td>249.0</td>\n",
       "      <td>127.0</td>\n",
       "      <td>2</td>\n",
       "      <td>3.21</td>\n",
       "      <td>D</td>\n",
       "      <td>3.0796</td>\n",
       "      <td>3.0699</td>\n",
       "      <td>1</td>\n",
       "      <td>M</td>\n",
       "      <td>3</td>\n",
       "      <td>AE</td>\n",
       "      <td>1</td>\n",
       "      <td>2</td>\n",
       "      <td>Staphylococcus chromogenes</td>\n",
       "      <td>Klebsiella spp</td>\n",
       "      <td>NaN</td>\n",
       "    </tr>\n",
       "    <tr>\n",
       "      <td>2</td>\n",
       "      <td>47.0</td>\n",
       "      <td>147.0</td>\n",
       "      <td>4</td>\n",
       "      <td>4.65</td>\n",
       "      <td>D</td>\n",
       "      <td>3.0555</td>\n",
       "      <td>3.0720</td>\n",
       "      <td>3</td>\n",
       "      <td>M</td>\n",
       "      <td>4</td>\n",
       "      <td>PE</td>\n",
       "      <td>2</td>\n",
       "      <td>4</td>\n",
       "      <td>Streptococcus uberis</td>\n",
       "      <td>Klebsiella spp</td>\n",
       "      <td>Bacillus licheniformis</td>\n",
       "    </tr>\n",
       "  </tbody>\n",
       "</table>\n",
       "</div>"
      ],
      "text/plain": [
       "    CCS     SO   CMT   CEL IMM    ECS     ESO    SOc  ISOL  TINFc  QM  QMc  \\\n",
       "0   21.0   79.0    2  4.23   D  3.0439  3.0630      1    I      3  AD    1   \n",
       "1  249.0  127.0    2  3.21   D  3.0796  3.0699      1    M      3  AE    1   \n",
       "2   47.0  147.0    4  4.65   D  3.0555  3.0720      3    M      4  PE    2   \n",
       "\n",
       "   QMc2             TINF - Agente 1 TINF - Agente 2         TINF - Agente 3  \n",
       "0     1      Bacillus licheniformis             NaN                     NaN  \n",
       "1     2  Staphylococcus chromogenes  Klebsiella spp                     NaN  \n",
       "2     4        Streptococcus uberis  Klebsiella spp  Bacillus licheniformis  "
      ]
     },
     "execution_count": 8,
     "metadata": {},
     "output_type": "execute_result"
    }
   ],
   "source": [
    "df.head(3)"
   ]
  },
  {
   "cell_type": "markdown",
   "metadata": {},
   "source": [
    "### IMM"
   ]
  },
  {
   "cell_type": "code",
   "execution_count": 9,
   "metadata": {},
   "outputs": [],
   "source": [
    "lista_imm = df['IMM'].unique()"
   ]
  },
  {
   "cell_type": "code",
   "execution_count": 10,
   "metadata": {},
   "outputs": [
    {
     "data": {
      "text/plain": [
       "array(['D', 'S'], dtype=object)"
      ]
     },
     "execution_count": 10,
     "metadata": {},
     "output_type": "execute_result"
    }
   ],
   "source": [
    "lista_imm"
   ]
  },
  {
   "cell_type": "code",
   "execution_count": 11,
   "metadata": {},
   "outputs": [],
   "source": [
    "map_imm = {lista_imm[x]: x for x in range(len(lista_imm))}"
   ]
  },
  {
   "cell_type": "code",
   "execution_count": 12,
   "metadata": {},
   "outputs": [
    {
     "data": {
      "text/plain": [
       "{'D': 0, 'S': 1}"
      ]
     },
     "execution_count": 12,
     "metadata": {},
     "output_type": "execute_result"
    }
   ],
   "source": [
    "map_imm"
   ]
  },
  {
   "cell_type": "code",
   "execution_count": 13,
   "metadata": {},
   "outputs": [],
   "source": [
    "df['IMM'] = df['IMM'].map(map_imm)"
   ]
  },
  {
   "cell_type": "code",
   "execution_count": 14,
   "metadata": {},
   "outputs": [
    {
     "data": {
      "text/html": [
       "<div>\n",
       "<style scoped>\n",
       "    .dataframe tbody tr th:only-of-type {\n",
       "        vertical-align: middle;\n",
       "    }\n",
       "\n",
       "    .dataframe tbody tr th {\n",
       "        vertical-align: top;\n",
       "    }\n",
       "\n",
       "    .dataframe thead th {\n",
       "        text-align: right;\n",
       "    }\n",
       "</style>\n",
       "<table border=\"1\" class=\"dataframe\">\n",
       "  <thead>\n",
       "    <tr style=\"text-align: right;\">\n",
       "      <th></th>\n",
       "      <th>CCS</th>\n",
       "      <th>SO</th>\n",
       "      <th>CMT</th>\n",
       "      <th>CEL</th>\n",
       "      <th>IMM</th>\n",
       "      <th>ECS</th>\n",
       "      <th>ESO</th>\n",
       "      <th>SOc</th>\n",
       "      <th>ISOL</th>\n",
       "      <th>TINFc</th>\n",
       "      <th>QM</th>\n",
       "      <th>QMc</th>\n",
       "      <th>QMc2</th>\n",
       "      <th>TINF - Agente 1</th>\n",
       "      <th>TINF - Agente 2</th>\n",
       "      <th>TINF - Agente 3</th>\n",
       "    </tr>\n",
       "  </thead>\n",
       "  <tbody>\n",
       "    <tr>\n",
       "      <td>0</td>\n",
       "      <td>21.0</td>\n",
       "      <td>79.0</td>\n",
       "      <td>2</td>\n",
       "      <td>4.23</td>\n",
       "      <td>0</td>\n",
       "      <td>3.0439</td>\n",
       "      <td>3.0630</td>\n",
       "      <td>1</td>\n",
       "      <td>I</td>\n",
       "      <td>3</td>\n",
       "      <td>AD</td>\n",
       "      <td>1</td>\n",
       "      <td>1</td>\n",
       "      <td>Bacillus licheniformis</td>\n",
       "      <td>NaN</td>\n",
       "      <td>NaN</td>\n",
       "    </tr>\n",
       "    <tr>\n",
       "      <td>1</td>\n",
       "      <td>249.0</td>\n",
       "      <td>127.0</td>\n",
       "      <td>2</td>\n",
       "      <td>3.21</td>\n",
       "      <td>0</td>\n",
       "      <td>3.0796</td>\n",
       "      <td>3.0699</td>\n",
       "      <td>1</td>\n",
       "      <td>M</td>\n",
       "      <td>3</td>\n",
       "      <td>AE</td>\n",
       "      <td>1</td>\n",
       "      <td>2</td>\n",
       "      <td>Staphylococcus chromogenes</td>\n",
       "      <td>Klebsiella spp</td>\n",
       "      <td>NaN</td>\n",
       "    </tr>\n",
       "    <tr>\n",
       "      <td>2</td>\n",
       "      <td>47.0</td>\n",
       "      <td>147.0</td>\n",
       "      <td>4</td>\n",
       "      <td>4.65</td>\n",
       "      <td>0</td>\n",
       "      <td>3.0555</td>\n",
       "      <td>3.0720</td>\n",
       "      <td>3</td>\n",
       "      <td>M</td>\n",
       "      <td>4</td>\n",
       "      <td>PE</td>\n",
       "      <td>2</td>\n",
       "      <td>4</td>\n",
       "      <td>Streptococcus uberis</td>\n",
       "      <td>Klebsiella spp</td>\n",
       "      <td>Bacillus licheniformis</td>\n",
       "    </tr>\n",
       "  </tbody>\n",
       "</table>\n",
       "</div>"
      ],
      "text/plain": [
       "    CCS     SO   CMT   CEL  IMM    ECS     ESO    SOc  ISOL  TINFc  QM  QMc  \\\n",
       "0   21.0   79.0    2  4.23    0  3.0439  3.0630      1    I      3  AD    1   \n",
       "1  249.0  127.0    2  3.21    0  3.0796  3.0699      1    M      3  AE    1   \n",
       "2   47.0  147.0    4  4.65    0  3.0555  3.0720      3    M      4  PE    2   \n",
       "\n",
       "   QMc2             TINF - Agente 1 TINF - Agente 2         TINF - Agente 3  \n",
       "0     1      Bacillus licheniformis             NaN                     NaN  \n",
       "1     2  Staphylococcus chromogenes  Klebsiella spp                     NaN  \n",
       "2     4        Streptococcus uberis  Klebsiella spp  Bacillus licheniformis  "
      ]
     },
     "execution_count": 14,
     "metadata": {},
     "output_type": "execute_result"
    }
   ],
   "source": [
    "df.head(3)"
   ]
  },
  {
   "cell_type": "markdown",
   "metadata": {},
   "source": [
    "### ISOL"
   ]
  },
  {
   "cell_type": "code",
   "execution_count": 15,
   "metadata": {},
   "outputs": [],
   "source": [
    "lista_isol = df['ISOL'].unique()"
   ]
  },
  {
   "cell_type": "code",
   "execution_count": 16,
   "metadata": {},
   "outputs": [
    {
     "data": {
      "text/plain": [
       "array(['I', 'M', 'Ne'], dtype=object)"
      ]
     },
     "execution_count": 16,
     "metadata": {},
     "output_type": "execute_result"
    }
   ],
   "source": [
    "lista_isol"
   ]
  },
  {
   "cell_type": "code",
   "execution_count": 17,
   "metadata": {},
   "outputs": [],
   "source": [
    "map_isol = {lista_isol[x]: x for x in range(len(lista_isol))}"
   ]
  },
  {
   "cell_type": "code",
   "execution_count": 18,
   "metadata": {},
   "outputs": [
    {
     "data": {
      "text/plain": [
       "{'I': 0, 'M': 1, 'Ne': 2}"
      ]
     },
     "execution_count": 18,
     "metadata": {},
     "output_type": "execute_result"
    }
   ],
   "source": [
    "map_isol"
   ]
  },
  {
   "cell_type": "code",
   "execution_count": 19,
   "metadata": {},
   "outputs": [],
   "source": [
    "df['ISOL'] = df['ISOL'].map(map_isol)"
   ]
  },
  {
   "cell_type": "code",
   "execution_count": 20,
   "metadata": {},
   "outputs": [
    {
     "data": {
      "text/html": [
       "<div>\n",
       "<style scoped>\n",
       "    .dataframe tbody tr th:only-of-type {\n",
       "        vertical-align: middle;\n",
       "    }\n",
       "\n",
       "    .dataframe tbody tr th {\n",
       "        vertical-align: top;\n",
       "    }\n",
       "\n",
       "    .dataframe thead th {\n",
       "        text-align: right;\n",
       "    }\n",
       "</style>\n",
       "<table border=\"1\" class=\"dataframe\">\n",
       "  <thead>\n",
       "    <tr style=\"text-align: right;\">\n",
       "      <th></th>\n",
       "      <th>CCS</th>\n",
       "      <th>SO</th>\n",
       "      <th>CMT</th>\n",
       "      <th>CEL</th>\n",
       "      <th>IMM</th>\n",
       "      <th>ECS</th>\n",
       "      <th>ESO</th>\n",
       "      <th>SOc</th>\n",
       "      <th>ISOL</th>\n",
       "      <th>TINFc</th>\n",
       "      <th>QM</th>\n",
       "      <th>QMc</th>\n",
       "      <th>QMc2</th>\n",
       "      <th>TINF - Agente 1</th>\n",
       "      <th>TINF - Agente 2</th>\n",
       "      <th>TINF - Agente 3</th>\n",
       "    </tr>\n",
       "  </thead>\n",
       "  <tbody>\n",
       "    <tr>\n",
       "      <td>0</td>\n",
       "      <td>21.0</td>\n",
       "      <td>79.0</td>\n",
       "      <td>2</td>\n",
       "      <td>4.23</td>\n",
       "      <td>0</td>\n",
       "      <td>3.0439</td>\n",
       "      <td>3.0630</td>\n",
       "      <td>1</td>\n",
       "      <td>0</td>\n",
       "      <td>3</td>\n",
       "      <td>AD</td>\n",
       "      <td>1</td>\n",
       "      <td>1</td>\n",
       "      <td>Bacillus licheniformis</td>\n",
       "      <td>NaN</td>\n",
       "      <td>NaN</td>\n",
       "    </tr>\n",
       "    <tr>\n",
       "      <td>1</td>\n",
       "      <td>249.0</td>\n",
       "      <td>127.0</td>\n",
       "      <td>2</td>\n",
       "      <td>3.21</td>\n",
       "      <td>0</td>\n",
       "      <td>3.0796</td>\n",
       "      <td>3.0699</td>\n",
       "      <td>1</td>\n",
       "      <td>1</td>\n",
       "      <td>3</td>\n",
       "      <td>AE</td>\n",
       "      <td>1</td>\n",
       "      <td>2</td>\n",
       "      <td>Staphylococcus chromogenes</td>\n",
       "      <td>Klebsiella spp</td>\n",
       "      <td>NaN</td>\n",
       "    </tr>\n",
       "    <tr>\n",
       "      <td>2</td>\n",
       "      <td>47.0</td>\n",
       "      <td>147.0</td>\n",
       "      <td>4</td>\n",
       "      <td>4.65</td>\n",
       "      <td>0</td>\n",
       "      <td>3.0555</td>\n",
       "      <td>3.0720</td>\n",
       "      <td>3</td>\n",
       "      <td>1</td>\n",
       "      <td>4</td>\n",
       "      <td>PE</td>\n",
       "      <td>2</td>\n",
       "      <td>4</td>\n",
       "      <td>Streptococcus uberis</td>\n",
       "      <td>Klebsiella spp</td>\n",
       "      <td>Bacillus licheniformis</td>\n",
       "    </tr>\n",
       "  </tbody>\n",
       "</table>\n",
       "</div>"
      ],
      "text/plain": [
       "    CCS     SO   CMT   CEL  IMM    ECS     ESO    SOc   ISOL  TINFc  QM  QMc  \\\n",
       "0   21.0   79.0    2  4.23    0  3.0439  3.0630      1     0      3  AD    1   \n",
       "1  249.0  127.0    2  3.21    0  3.0796  3.0699      1     1      3  AE    1   \n",
       "2   47.0  147.0    4  4.65    0  3.0555  3.0720      3     1      4  PE    2   \n",
       "\n",
       "   QMc2             TINF - Agente 1 TINF - Agente 2         TINF - Agente 3  \n",
       "0     1      Bacillus licheniformis             NaN                     NaN  \n",
       "1     2  Staphylococcus chromogenes  Klebsiella spp                     NaN  \n",
       "2     4        Streptococcus uberis  Klebsiella spp  Bacillus licheniformis  "
      ]
     },
     "execution_count": 20,
     "metadata": {},
     "output_type": "execute_result"
    }
   ],
   "source": [
    "df.head(3)"
   ]
  },
  {
   "cell_type": "markdown",
   "metadata": {},
   "source": [
    "### QM"
   ]
  },
  {
   "cell_type": "code",
   "execution_count": 21,
   "metadata": {},
   "outputs": [],
   "source": [
    "lista_qm = df['QM'].unique()"
   ]
  },
  {
   "cell_type": "code",
   "execution_count": 22,
   "metadata": {},
   "outputs": [
    {
     "data": {
      "text/plain": [
       "array(['AD', 'AE', 'PE', 'PD', 'COMP'], dtype=object)"
      ]
     },
     "execution_count": 22,
     "metadata": {},
     "output_type": "execute_result"
    }
   ],
   "source": [
    "lista_qm"
   ]
  },
  {
   "cell_type": "code",
   "execution_count": 23,
   "metadata": {},
   "outputs": [],
   "source": [
    "map_qm = {lista_qm[x]: x for x in range(len(lista_qm))}"
   ]
  },
  {
   "cell_type": "code",
   "execution_count": 24,
   "metadata": {},
   "outputs": [
    {
     "data": {
      "text/plain": [
       "{'AD': 0, 'AE': 1, 'PE': 2, 'PD': 3, 'COMP': 4}"
      ]
     },
     "execution_count": 24,
     "metadata": {},
     "output_type": "execute_result"
    }
   ],
   "source": [
    "map_qm"
   ]
  },
  {
   "cell_type": "code",
   "execution_count": 25,
   "metadata": {},
   "outputs": [],
   "source": [
    "df['QM'] = df['QM'].map(map_qm)"
   ]
  },
  {
   "cell_type": "code",
   "execution_count": 26,
   "metadata": {},
   "outputs": [
    {
     "data": {
      "text/html": [
       "<div>\n",
       "<style scoped>\n",
       "    .dataframe tbody tr th:only-of-type {\n",
       "        vertical-align: middle;\n",
       "    }\n",
       "\n",
       "    .dataframe tbody tr th {\n",
       "        vertical-align: top;\n",
       "    }\n",
       "\n",
       "    .dataframe thead th {\n",
       "        text-align: right;\n",
       "    }\n",
       "</style>\n",
       "<table border=\"1\" class=\"dataframe\">\n",
       "  <thead>\n",
       "    <tr style=\"text-align: right;\">\n",
       "      <th></th>\n",
       "      <th>CCS</th>\n",
       "      <th>SO</th>\n",
       "      <th>CMT</th>\n",
       "      <th>CEL</th>\n",
       "      <th>IMM</th>\n",
       "      <th>ECS</th>\n",
       "      <th>ESO</th>\n",
       "      <th>SOc</th>\n",
       "      <th>ISOL</th>\n",
       "      <th>TINFc</th>\n",
       "      <th>QM</th>\n",
       "      <th>QMc</th>\n",
       "      <th>QMc2</th>\n",
       "      <th>TINF - Agente 1</th>\n",
       "      <th>TINF - Agente 2</th>\n",
       "      <th>TINF - Agente 3</th>\n",
       "    </tr>\n",
       "  </thead>\n",
       "  <tbody>\n",
       "    <tr>\n",
       "      <td>0</td>\n",
       "      <td>21.0</td>\n",
       "      <td>79.0</td>\n",
       "      <td>2</td>\n",
       "      <td>4.23</td>\n",
       "      <td>0</td>\n",
       "      <td>3.0439</td>\n",
       "      <td>3.0630</td>\n",
       "      <td>1</td>\n",
       "      <td>0</td>\n",
       "      <td>3</td>\n",
       "      <td>0</td>\n",
       "      <td>1</td>\n",
       "      <td>1</td>\n",
       "      <td>Bacillus licheniformis</td>\n",
       "      <td>NaN</td>\n",
       "      <td>NaN</td>\n",
       "    </tr>\n",
       "    <tr>\n",
       "      <td>1</td>\n",
       "      <td>249.0</td>\n",
       "      <td>127.0</td>\n",
       "      <td>2</td>\n",
       "      <td>3.21</td>\n",
       "      <td>0</td>\n",
       "      <td>3.0796</td>\n",
       "      <td>3.0699</td>\n",
       "      <td>1</td>\n",
       "      <td>1</td>\n",
       "      <td>3</td>\n",
       "      <td>1</td>\n",
       "      <td>1</td>\n",
       "      <td>2</td>\n",
       "      <td>Staphylococcus chromogenes</td>\n",
       "      <td>Klebsiella spp</td>\n",
       "      <td>NaN</td>\n",
       "    </tr>\n",
       "    <tr>\n",
       "      <td>2</td>\n",
       "      <td>47.0</td>\n",
       "      <td>147.0</td>\n",
       "      <td>4</td>\n",
       "      <td>4.65</td>\n",
       "      <td>0</td>\n",
       "      <td>3.0555</td>\n",
       "      <td>3.0720</td>\n",
       "      <td>3</td>\n",
       "      <td>1</td>\n",
       "      <td>4</td>\n",
       "      <td>2</td>\n",
       "      <td>2</td>\n",
       "      <td>4</td>\n",
       "      <td>Streptococcus uberis</td>\n",
       "      <td>Klebsiella spp</td>\n",
       "      <td>Bacillus licheniformis</td>\n",
       "    </tr>\n",
       "  </tbody>\n",
       "</table>\n",
       "</div>"
      ],
      "text/plain": [
       "    CCS     SO   CMT   CEL  IMM    ECS     ESO    SOc   ISOL  TINFc  QM  QMc  \\\n",
       "0   21.0   79.0    2  4.23    0  3.0439  3.0630      1     0      3   0    1   \n",
       "1  249.0  127.0    2  3.21    0  3.0796  3.0699      1     1      3   1    1   \n",
       "2   47.0  147.0    4  4.65    0  3.0555  3.0720      3     1      4   2    2   \n",
       "\n",
       "   QMc2             TINF - Agente 1 TINF - Agente 2         TINF - Agente 3  \n",
       "0     1      Bacillus licheniformis             NaN                     NaN  \n",
       "1     2  Staphylococcus chromogenes  Klebsiella spp                     NaN  \n",
       "2     4        Streptococcus uberis  Klebsiella spp  Bacillus licheniformis  "
      ]
     },
     "execution_count": 26,
     "metadata": {},
     "output_type": "execute_result"
    }
   ],
   "source": [
    "df.head(3)"
   ]
  },
  {
   "cell_type": "markdown",
   "metadata": {},
   "source": [
    "### TINF - Agente 1"
   ]
  },
  {
   "cell_type": "code",
   "execution_count": 27,
   "metadata": {},
   "outputs": [],
   "source": [
    "df['TINF - Agente 1'] = df.apply(lambda x: 0 if pd.isna(x['TINF - Agente 1']) else 1,axis=1)"
   ]
  },
  {
   "cell_type": "code",
   "execution_count": 28,
   "metadata": {},
   "outputs": [
    {
     "data": {
      "text/html": [
       "<div>\n",
       "<style scoped>\n",
       "    .dataframe tbody tr th:only-of-type {\n",
       "        vertical-align: middle;\n",
       "    }\n",
       "\n",
       "    .dataframe tbody tr th {\n",
       "        vertical-align: top;\n",
       "    }\n",
       "\n",
       "    .dataframe thead th {\n",
       "        text-align: right;\n",
       "    }\n",
       "</style>\n",
       "<table border=\"1\" class=\"dataframe\">\n",
       "  <thead>\n",
       "    <tr style=\"text-align: right;\">\n",
       "      <th></th>\n",
       "      <th>CCS</th>\n",
       "      <th>SO</th>\n",
       "      <th>CMT</th>\n",
       "      <th>CEL</th>\n",
       "      <th>IMM</th>\n",
       "      <th>ECS</th>\n",
       "      <th>ESO</th>\n",
       "      <th>SOc</th>\n",
       "      <th>ISOL</th>\n",
       "      <th>TINFc</th>\n",
       "      <th>QM</th>\n",
       "      <th>QMc</th>\n",
       "      <th>QMc2</th>\n",
       "      <th>TINF - Agente 1</th>\n",
       "      <th>TINF - Agente 2</th>\n",
       "      <th>TINF - Agente 3</th>\n",
       "    </tr>\n",
       "  </thead>\n",
       "  <tbody>\n",
       "    <tr>\n",
       "      <td>0</td>\n",
       "      <td>21.0</td>\n",
       "      <td>79.0</td>\n",
       "      <td>2</td>\n",
       "      <td>4.23</td>\n",
       "      <td>0</td>\n",
       "      <td>3.0439</td>\n",
       "      <td>3.0630</td>\n",
       "      <td>1</td>\n",
       "      <td>0</td>\n",
       "      <td>3</td>\n",
       "      <td>0</td>\n",
       "      <td>1</td>\n",
       "      <td>1</td>\n",
       "      <td>1</td>\n",
       "      <td>NaN</td>\n",
       "      <td>NaN</td>\n",
       "    </tr>\n",
       "    <tr>\n",
       "      <td>1</td>\n",
       "      <td>249.0</td>\n",
       "      <td>127.0</td>\n",
       "      <td>2</td>\n",
       "      <td>3.21</td>\n",
       "      <td>0</td>\n",
       "      <td>3.0796</td>\n",
       "      <td>3.0699</td>\n",
       "      <td>1</td>\n",
       "      <td>1</td>\n",
       "      <td>3</td>\n",
       "      <td>1</td>\n",
       "      <td>1</td>\n",
       "      <td>2</td>\n",
       "      <td>1</td>\n",
       "      <td>Klebsiella spp</td>\n",
       "      <td>NaN</td>\n",
       "    </tr>\n",
       "    <tr>\n",
       "      <td>2</td>\n",
       "      <td>47.0</td>\n",
       "      <td>147.0</td>\n",
       "      <td>4</td>\n",
       "      <td>4.65</td>\n",
       "      <td>0</td>\n",
       "      <td>3.0555</td>\n",
       "      <td>3.0720</td>\n",
       "      <td>3</td>\n",
       "      <td>1</td>\n",
       "      <td>4</td>\n",
       "      <td>2</td>\n",
       "      <td>2</td>\n",
       "      <td>4</td>\n",
       "      <td>1</td>\n",
       "      <td>Klebsiella spp</td>\n",
       "      <td>Bacillus licheniformis</td>\n",
       "    </tr>\n",
       "  </tbody>\n",
       "</table>\n",
       "</div>"
      ],
      "text/plain": [
       "    CCS     SO   CMT   CEL  IMM    ECS     ESO    SOc   ISOL  TINFc  QM  QMc  \\\n",
       "0   21.0   79.0    2  4.23    0  3.0439  3.0630      1     0      3   0    1   \n",
       "1  249.0  127.0    2  3.21    0  3.0796  3.0699      1     1      3   1    1   \n",
       "2   47.0  147.0    4  4.65    0  3.0555  3.0720      3     1      4   2    2   \n",
       "\n",
       "   QMc2  TINF - Agente 1 TINF - Agente 2         TINF - Agente 3  \n",
       "0     1                1             NaN                     NaN  \n",
       "1     2                1  Klebsiella spp                     NaN  \n",
       "2     4                1  Klebsiella spp  Bacillus licheniformis  "
      ]
     },
     "execution_count": 28,
     "metadata": {},
     "output_type": "execute_result"
    }
   ],
   "source": [
    "df.head(3)"
   ]
  },
  {
   "cell_type": "markdown",
   "metadata": {},
   "source": [
    "### TINF - Agente 2"
   ]
  },
  {
   "cell_type": "code",
   "execution_count": 29,
   "metadata": {},
   "outputs": [],
   "source": [
    "df['TINF - Agente 2'] = df.apply(lambda x: 0 if pd.isna(x['TINF - Agente 2']) else 1,axis=1)"
   ]
  },
  {
   "cell_type": "code",
   "execution_count": 30,
   "metadata": {},
   "outputs": [
    {
     "data": {
      "text/html": [
       "<div>\n",
       "<style scoped>\n",
       "    .dataframe tbody tr th:only-of-type {\n",
       "        vertical-align: middle;\n",
       "    }\n",
       "\n",
       "    .dataframe tbody tr th {\n",
       "        vertical-align: top;\n",
       "    }\n",
       "\n",
       "    .dataframe thead th {\n",
       "        text-align: right;\n",
       "    }\n",
       "</style>\n",
       "<table border=\"1\" class=\"dataframe\">\n",
       "  <thead>\n",
       "    <tr style=\"text-align: right;\">\n",
       "      <th></th>\n",
       "      <th>CCS</th>\n",
       "      <th>SO</th>\n",
       "      <th>CMT</th>\n",
       "      <th>CEL</th>\n",
       "      <th>IMM</th>\n",
       "      <th>ECS</th>\n",
       "      <th>ESO</th>\n",
       "      <th>SOc</th>\n",
       "      <th>ISOL</th>\n",
       "      <th>TINFc</th>\n",
       "      <th>QM</th>\n",
       "      <th>QMc</th>\n",
       "      <th>QMc2</th>\n",
       "      <th>TINF - Agente 1</th>\n",
       "      <th>TINF - Agente 2</th>\n",
       "      <th>TINF - Agente 3</th>\n",
       "    </tr>\n",
       "  </thead>\n",
       "  <tbody>\n",
       "    <tr>\n",
       "      <td>0</td>\n",
       "      <td>21.0</td>\n",
       "      <td>79.0</td>\n",
       "      <td>2</td>\n",
       "      <td>4.23</td>\n",
       "      <td>0</td>\n",
       "      <td>3.0439</td>\n",
       "      <td>3.0630</td>\n",
       "      <td>1</td>\n",
       "      <td>0</td>\n",
       "      <td>3</td>\n",
       "      <td>0</td>\n",
       "      <td>1</td>\n",
       "      <td>1</td>\n",
       "      <td>1</td>\n",
       "      <td>0</td>\n",
       "      <td>NaN</td>\n",
       "    </tr>\n",
       "    <tr>\n",
       "      <td>1</td>\n",
       "      <td>249.0</td>\n",
       "      <td>127.0</td>\n",
       "      <td>2</td>\n",
       "      <td>3.21</td>\n",
       "      <td>0</td>\n",
       "      <td>3.0796</td>\n",
       "      <td>3.0699</td>\n",
       "      <td>1</td>\n",
       "      <td>1</td>\n",
       "      <td>3</td>\n",
       "      <td>1</td>\n",
       "      <td>1</td>\n",
       "      <td>2</td>\n",
       "      <td>1</td>\n",
       "      <td>1</td>\n",
       "      <td>NaN</td>\n",
       "    </tr>\n",
       "    <tr>\n",
       "      <td>2</td>\n",
       "      <td>47.0</td>\n",
       "      <td>147.0</td>\n",
       "      <td>4</td>\n",
       "      <td>4.65</td>\n",
       "      <td>0</td>\n",
       "      <td>3.0555</td>\n",
       "      <td>3.0720</td>\n",
       "      <td>3</td>\n",
       "      <td>1</td>\n",
       "      <td>4</td>\n",
       "      <td>2</td>\n",
       "      <td>2</td>\n",
       "      <td>4</td>\n",
       "      <td>1</td>\n",
       "      <td>1</td>\n",
       "      <td>Bacillus licheniformis</td>\n",
       "    </tr>\n",
       "  </tbody>\n",
       "</table>\n",
       "</div>"
      ],
      "text/plain": [
       "    CCS     SO   CMT   CEL  IMM    ECS     ESO    SOc   ISOL  TINFc  QM  QMc  \\\n",
       "0   21.0   79.0    2  4.23    0  3.0439  3.0630      1     0      3   0    1   \n",
       "1  249.0  127.0    2  3.21    0  3.0796  3.0699      1     1      3   1    1   \n",
       "2   47.0  147.0    4  4.65    0  3.0555  3.0720      3     1      4   2    2   \n",
       "\n",
       "   QMc2  TINF - Agente 1  TINF - Agente 2         TINF - Agente 3  \n",
       "0     1                1                0                     NaN  \n",
       "1     2                1                1                     NaN  \n",
       "2     4                1                1  Bacillus licheniformis  "
      ]
     },
     "execution_count": 30,
     "metadata": {},
     "output_type": "execute_result"
    }
   ],
   "source": [
    "df.head(3)"
   ]
  },
  {
   "cell_type": "markdown",
   "metadata": {},
   "source": [
    "### TINF - Agente 3"
   ]
  },
  {
   "cell_type": "code",
   "execution_count": 31,
   "metadata": {},
   "outputs": [],
   "source": [
    "df['TINF - Agente 3'] = df.apply(lambda x: 0 if pd.isna(x['TINF - Agente 3']) else 1,axis=1)"
   ]
  },
  {
   "cell_type": "code",
   "execution_count": 32,
   "metadata": {},
   "outputs": [
    {
     "data": {
      "text/html": [
       "<div>\n",
       "<style scoped>\n",
       "    .dataframe tbody tr th:only-of-type {\n",
       "        vertical-align: middle;\n",
       "    }\n",
       "\n",
       "    .dataframe tbody tr th {\n",
       "        vertical-align: top;\n",
       "    }\n",
       "\n",
       "    .dataframe thead th {\n",
       "        text-align: right;\n",
       "    }\n",
       "</style>\n",
       "<table border=\"1\" class=\"dataframe\">\n",
       "  <thead>\n",
       "    <tr style=\"text-align: right;\">\n",
       "      <th></th>\n",
       "      <th>CCS</th>\n",
       "      <th>SO</th>\n",
       "      <th>CMT</th>\n",
       "      <th>CEL</th>\n",
       "      <th>IMM</th>\n",
       "      <th>ECS</th>\n",
       "      <th>ESO</th>\n",
       "      <th>SOc</th>\n",
       "      <th>ISOL</th>\n",
       "      <th>TINFc</th>\n",
       "      <th>QM</th>\n",
       "      <th>QMc</th>\n",
       "      <th>QMc2</th>\n",
       "      <th>TINF - Agente 1</th>\n",
       "      <th>TINF - Agente 2</th>\n",
       "      <th>TINF - Agente 3</th>\n",
       "    </tr>\n",
       "  </thead>\n",
       "  <tbody>\n",
       "    <tr>\n",
       "      <td>0</td>\n",
       "      <td>21.0</td>\n",
       "      <td>79.0</td>\n",
       "      <td>2</td>\n",
       "      <td>4.23</td>\n",
       "      <td>0</td>\n",
       "      <td>3.0439</td>\n",
       "      <td>3.0630</td>\n",
       "      <td>1</td>\n",
       "      <td>0</td>\n",
       "      <td>3</td>\n",
       "      <td>0</td>\n",
       "      <td>1</td>\n",
       "      <td>1</td>\n",
       "      <td>1</td>\n",
       "      <td>0</td>\n",
       "      <td>0</td>\n",
       "    </tr>\n",
       "    <tr>\n",
       "      <td>1</td>\n",
       "      <td>249.0</td>\n",
       "      <td>127.0</td>\n",
       "      <td>2</td>\n",
       "      <td>3.21</td>\n",
       "      <td>0</td>\n",
       "      <td>3.0796</td>\n",
       "      <td>3.0699</td>\n",
       "      <td>1</td>\n",
       "      <td>1</td>\n",
       "      <td>3</td>\n",
       "      <td>1</td>\n",
       "      <td>1</td>\n",
       "      <td>2</td>\n",
       "      <td>1</td>\n",
       "      <td>1</td>\n",
       "      <td>0</td>\n",
       "    </tr>\n",
       "    <tr>\n",
       "      <td>2</td>\n",
       "      <td>47.0</td>\n",
       "      <td>147.0</td>\n",
       "      <td>4</td>\n",
       "      <td>4.65</td>\n",
       "      <td>0</td>\n",
       "      <td>3.0555</td>\n",
       "      <td>3.0720</td>\n",
       "      <td>3</td>\n",
       "      <td>1</td>\n",
       "      <td>4</td>\n",
       "      <td>2</td>\n",
       "      <td>2</td>\n",
       "      <td>4</td>\n",
       "      <td>1</td>\n",
       "      <td>1</td>\n",
       "      <td>1</td>\n",
       "    </tr>\n",
       "  </tbody>\n",
       "</table>\n",
       "</div>"
      ],
      "text/plain": [
       "    CCS     SO   CMT   CEL  IMM    ECS     ESO    SOc   ISOL  TINFc  QM  QMc  \\\n",
       "0   21.0   79.0    2  4.23    0  3.0439  3.0630      1     0      3   0    1   \n",
       "1  249.0  127.0    2  3.21    0  3.0796  3.0699      1     1      3   1    1   \n",
       "2   47.0  147.0    4  4.65    0  3.0555  3.0720      3     1      4   2    2   \n",
       "\n",
       "   QMc2  TINF - Agente 1  TINF - Agente 2  TINF - Agente 3  \n",
       "0     1                1                0                0  \n",
       "1     2                1                1                0  \n",
       "2     4                1                1                1  "
      ]
     },
     "execution_count": 32,
     "metadata": {},
     "output_type": "execute_result"
    }
   ],
   "source": [
    "df.head(3)"
   ]
  },
  {
   "cell_type": "markdown",
   "metadata": {},
   "source": [
    "# 3 - Análise dos Dados"
   ]
  },
  {
   "cell_type": "code",
   "execution_count": 33,
   "metadata": {},
   "outputs": [
    {
     "data": {
      "text/html": [
       "<div>\n",
       "<style scoped>\n",
       "    .dataframe tbody tr th:only-of-type {\n",
       "        vertical-align: middle;\n",
       "    }\n",
       "\n",
       "    .dataframe tbody tr th {\n",
       "        vertical-align: top;\n",
       "    }\n",
       "\n",
       "    .dataframe thead th {\n",
       "        text-align: right;\n",
       "    }\n",
       "</style>\n",
       "<table border=\"1\" class=\"dataframe\">\n",
       "  <thead>\n",
       "    <tr style=\"text-align: right;\">\n",
       "      <th></th>\n",
       "      <th>CCS</th>\n",
       "      <th>SO</th>\n",
       "      <th>CMT</th>\n",
       "      <th>CEL</th>\n",
       "      <th>IMM</th>\n",
       "      <th>ECS</th>\n",
       "      <th>ESO</th>\n",
       "      <th>SOc</th>\n",
       "      <th>ISOL</th>\n",
       "      <th>TINFc</th>\n",
       "      <th>QM</th>\n",
       "      <th>QMc</th>\n",
       "      <th>QMc2</th>\n",
       "      <th>TINF - Agente 1</th>\n",
       "      <th>TINF - Agente 2</th>\n",
       "      <th>TINF - Agente 3</th>\n",
       "    </tr>\n",
       "  </thead>\n",
       "  <tbody>\n",
       "    <tr>\n",
       "      <td>count</td>\n",
       "      <td>275.000000</td>\n",
       "      <td>275.000000</td>\n",
       "      <td>275.000000</td>\n",
       "      <td>275.000000</td>\n",
       "      <td>275.000000</td>\n",
       "      <td>275.000000</td>\n",
       "      <td>275.000000</td>\n",
       "      <td>275.000000</td>\n",
       "      <td>275.000000</td>\n",
       "      <td>275.000000</td>\n",
       "      <td>275.000000</td>\n",
       "      <td>275.000000</td>\n",
       "      <td>275.000000</td>\n",
       "      <td>275.000000</td>\n",
       "      <td>275.000000</td>\n",
       "      <td>275.000000</td>\n",
       "    </tr>\n",
       "    <tr>\n",
       "      <td>mean</td>\n",
       "      <td>1018.600000</td>\n",
       "      <td>638.185455</td>\n",
       "      <td>1.796364</td>\n",
       "      <td>4.700182</td>\n",
       "      <td>0.312727</td>\n",
       "      <td>3.082453</td>\n",
       "      <td>3.085696</td>\n",
       "      <td>2.207273</td>\n",
       "      <td>0.807273</td>\n",
       "      <td>2.330909</td>\n",
       "      <td>1.825455</td>\n",
       "      <td>1.614545</td>\n",
       "      <td>2.800000</td>\n",
       "      <td>0.687273</td>\n",
       "      <td>0.181818</td>\n",
       "      <td>0.021818</td>\n",
       "    </tr>\n",
       "    <tr>\n",
       "      <td>std</td>\n",
       "      <td>1868.834472</td>\n",
       "      <td>611.304324</td>\n",
       "      <td>1.430375</td>\n",
       "      <td>1.198817</td>\n",
       "      <td>0.464449</td>\n",
       "      <td>0.023792</td>\n",
       "      <td>0.015585</td>\n",
       "      <td>0.886199</td>\n",
       "      <td>0.885375</td>\n",
       "      <td>1.299758</td>\n",
       "      <td>1.045710</td>\n",
       "      <td>0.487590</td>\n",
       "      <td>1.035854</td>\n",
       "      <td>0.464449</td>\n",
       "      <td>0.386398</td>\n",
       "      <td>0.146356</td>\n",
       "    </tr>\n",
       "    <tr>\n",
       "      <td>min</td>\n",
       "      <td>6.000000</td>\n",
       "      <td>69.000000</td>\n",
       "      <td>0.000000</td>\n",
       "      <td>2.890000</td>\n",
       "      <td>0.000000</td>\n",
       "      <td>3.025800</td>\n",
       "      <td>3.061100</td>\n",
       "      <td>1.000000</td>\n",
       "      <td>0.000000</td>\n",
       "      <td>1.000000</td>\n",
       "      <td>0.000000</td>\n",
       "      <td>1.000000</td>\n",
       "      <td>1.000000</td>\n",
       "      <td>0.000000</td>\n",
       "      <td>0.000000</td>\n",
       "      <td>0.000000</td>\n",
       "    </tr>\n",
       "    <tr>\n",
       "      <td>25%</td>\n",
       "      <td>94.500000</td>\n",
       "      <td>127.000000</td>\n",
       "      <td>0.000000</td>\n",
       "      <td>3.860000</td>\n",
       "      <td>0.000000</td>\n",
       "      <td>3.065600</td>\n",
       "      <td>3.069900</td>\n",
       "      <td>1.000000</td>\n",
       "      <td>0.000000</td>\n",
       "      <td>1.000000</td>\n",
       "      <td>1.000000</td>\n",
       "      <td>1.000000</td>\n",
       "      <td>2.000000</td>\n",
       "      <td>0.000000</td>\n",
       "      <td>0.000000</td>\n",
       "      <td>0.000000</td>\n",
       "    </tr>\n",
       "    <tr>\n",
       "      <td>50%</td>\n",
       "      <td>320.000000</td>\n",
       "      <td>418.000000</td>\n",
       "      <td>2.000000</td>\n",
       "      <td>4.340000</td>\n",
       "      <td>0.000000</td>\n",
       "      <td>3.083200</td>\n",
       "      <td>3.087100</td>\n",
       "      <td>3.000000</td>\n",
       "      <td>0.000000</td>\n",
       "      <td>2.000000</td>\n",
       "      <td>2.000000</td>\n",
       "      <td>2.000000</td>\n",
       "      <td>3.000000</td>\n",
       "      <td>1.000000</td>\n",
       "      <td>0.000000</td>\n",
       "      <td>0.000000</td>\n",
       "    </tr>\n",
       "    <tr>\n",
       "      <td>75%</td>\n",
       "      <td>926.500000</td>\n",
       "      <td>960.000000</td>\n",
       "      <td>3.000000</td>\n",
       "      <td>5.275000</td>\n",
       "      <td>1.000000</td>\n",
       "      <td>3.098550</td>\n",
       "      <td>3.099100</td>\n",
       "      <td>3.000000</td>\n",
       "      <td>2.000000</td>\n",
       "      <td>3.000000</td>\n",
       "      <td>3.000000</td>\n",
       "      <td>2.000000</td>\n",
       "      <td>4.000000</td>\n",
       "      <td>1.000000</td>\n",
       "      <td>0.000000</td>\n",
       "      <td>0.000000</td>\n",
       "    </tr>\n",
       "    <tr>\n",
       "      <td>max</td>\n",
       "      <td>9999.000000</td>\n",
       "      <td>1970.000000</td>\n",
       "      <td>4.000000</td>\n",
       "      <td>9.720000</td>\n",
       "      <td>1.000000</td>\n",
       "      <td>3.132900</td>\n",
       "      <td>3.109400</td>\n",
       "      <td>3.000000</td>\n",
       "      <td>2.000000</td>\n",
       "      <td>5.000000</td>\n",
       "      <td>4.000000</td>\n",
       "      <td>2.000000</td>\n",
       "      <td>4.000000</td>\n",
       "      <td>1.000000</td>\n",
       "      <td>1.000000</td>\n",
       "      <td>1.000000</td>\n",
       "    </tr>\n",
       "  </tbody>\n",
       "</table>\n",
       "</div>"
      ],
      "text/plain": [
       "              CCS           SO          CMT         CEL         IMM  \\\n",
       "count   275.000000   275.000000  275.000000  275.000000  275.000000   \n",
       "mean   1018.600000   638.185455    1.796364    4.700182    0.312727   \n",
       "std    1868.834472   611.304324    1.430375    1.198817    0.464449   \n",
       "min       6.000000    69.000000    0.000000    2.890000    0.000000   \n",
       "25%      94.500000   127.000000    0.000000    3.860000    0.000000   \n",
       "50%     320.000000   418.000000    2.000000    4.340000    0.000000   \n",
       "75%     926.500000   960.000000    3.000000    5.275000    1.000000   \n",
       "max    9999.000000  1970.000000    4.000000    9.720000    1.000000   \n",
       "\n",
       "             ECS         ESO         SOc         ISOL       TINFc          QM  \\\n",
       "count  275.000000  275.000000  275.000000  275.000000  275.000000  275.000000   \n",
       "mean     3.082453    3.085696    2.207273    0.807273    2.330909    1.825455   \n",
       "std      0.023792    0.015585    0.886199    0.885375    1.299758    1.045710   \n",
       "min      3.025800    3.061100    1.000000    0.000000    1.000000    0.000000   \n",
       "25%      3.065600    3.069900    1.000000    0.000000    1.000000    1.000000   \n",
       "50%      3.083200    3.087100    3.000000    0.000000    2.000000    2.000000   \n",
       "75%      3.098550    3.099100    3.000000    2.000000    3.000000    3.000000   \n",
       "max      3.132900    3.109400    3.000000    2.000000    5.000000    4.000000   \n",
       "\n",
       "              QMc        QMc2  TINF - Agente 1  TINF - Agente 2  \\\n",
       "count  275.000000  275.000000       275.000000       275.000000   \n",
       "mean     1.614545    2.800000         0.687273         0.181818   \n",
       "std      0.487590    1.035854         0.464449         0.386398   \n",
       "min      1.000000    1.000000         0.000000         0.000000   \n",
       "25%      1.000000    2.000000         0.000000         0.000000   \n",
       "50%      2.000000    3.000000         1.000000         0.000000   \n",
       "75%      2.000000    4.000000         1.000000         0.000000   \n",
       "max      2.000000    4.000000         1.000000         1.000000   \n",
       "\n",
       "       TINF - Agente 3  \n",
       "count       275.000000  \n",
       "mean          0.021818  \n",
       "std           0.146356  \n",
       "min           0.000000  \n",
       "25%           0.000000  \n",
       "50%           0.000000  \n",
       "75%           0.000000  \n",
       "max           1.000000  "
      ]
     },
     "execution_count": 33,
     "metadata": {},
     "output_type": "execute_result"
    }
   ],
   "source": [
    "df.describe()"
   ]
  },
  {
   "cell_type": "code",
   "execution_count": 34,
   "metadata": {},
   "outputs": [
    {
     "data": {
      "text/plain": [
       "[[Text(0, 0, 'Doente'), Text(0, 0, 'Sadio')]]"
      ]
     },
     "execution_count": 34,
     "metadata": {},
     "output_type": "execute_result"
    },
    {
     "data": {
      "image/png": "[encoded data removed]",
      "text/plain": [
       "<Figure size 432x288 with 1 Axes>"
      ]
     },
     "metadata": {
      "needs_background": "light"
     },
     "output_type": "display_data"
    }
   ],
   "source": [
    "g = sns.countplot(x='IMM',data=df)\n",
    "g.set(xticklabels=['Doente','Sadio'])"
   ]
  },
  {
   "cell_type": "code",
   "execution_count": 74,
   "metadata": {},
   "outputs": [
    {
     "data": {
      "image/png": "[encoded data removed]",
      "text/plain": [
       "<Figure size 864x504 with 2 Axes>"
      ]
     },
     "metadata": {
      "needs_background": "light"
     },
     "output_type": "display_data"
    }
   ],
   "source": [
    "fig,ax = plt.subplots(figsize=(12,7))\n",
    "g = sns.heatmap(df.corr(),annot=True,fmt=\".1f\",cmap=\"coolwarm\",ax=ax)"
   ]
  },
  {
   "cell_type": "markdown",
   "metadata": {},
   "source": [
    "# 4 - Predição"
   ]
  },
  {
   "cell_type": "code",
   "execution_count": 36,
   "metadata": {},
   "outputs": [],
   "source": [
    "list_colunas = df.columns.drop('IMM')"
   ]
  },
  {
   "cell_type": "code",
   "execution_count": 37,
   "metadata": {},
   "outputs": [
    {
     "data": {
      "text/plain": [
       "Index([' CCS ', ' SO ', 'CMT', 'CEL', ' ECS ', ' ESO ', ' SOc ', 'ISOL',\n",
       "       'TINFc', 'QM', 'QMc', 'QMc2', 'TINF - Agente 1', 'TINF - Agente 2',\n",
       "       'TINF - Agente 3'],\n",
       "      dtype='object')"
      ]
     },
     "execution_count": 37,
     "metadata": {},
     "output_type": "execute_result"
    }
   ],
   "source": [
    "list_colunas"
   ]
  },
  {
   "cell_type": "code",
   "execution_count": 38,
   "metadata": {},
   "outputs": [],
   "source": [
    "x = df.loc[:,list_colunas]"
   ]
  },
  {
   "cell_type": "code",
   "execution_count": 39,
   "metadata": {},
   "outputs": [
    {
     "data": {
      "text/html": [
       "<div>\n",
       "<style scoped>\n",
       "    .dataframe tbody tr th:only-of-type {\n",
       "        vertical-align: middle;\n",
       "    }\n",
       "\n",
       "    .dataframe tbody tr th {\n",
       "        vertical-align: top;\n",
       "    }\n",
       "\n",
       "    .dataframe thead th {\n",
       "        text-align: right;\n",
       "    }\n",
       "</style>\n",
       "<table border=\"1\" class=\"dataframe\">\n",
       "  <thead>\n",
       "    <tr style=\"text-align: right;\">\n",
       "      <th></th>\n",
       "      <th>CCS</th>\n",
       "      <th>SO</th>\n",
       "      <th>CMT</th>\n",
       "      <th>CEL</th>\n",
       "      <th>ECS</th>\n",
       "      <th>ESO</th>\n",
       "      <th>SOc</th>\n",
       "      <th>ISOL</th>\n",
       "      <th>TINFc</th>\n",
       "      <th>QM</th>\n",
       "      <th>QMc</th>\n",
       "      <th>QMc2</th>\n",
       "      <th>TINF - Agente 1</th>\n",
       "      <th>TINF - Agente 2</th>\n",
       "      <th>TINF - Agente 3</th>\n",
       "    </tr>\n",
       "  </thead>\n",
       "  <tbody>\n",
       "    <tr>\n",
       "      <td>0</td>\n",
       "      <td>21.0</td>\n",
       "      <td>79.0</td>\n",
       "      <td>2</td>\n",
       "      <td>4.23</td>\n",
       "      <td>3.0439</td>\n",
       "      <td>3.0630</td>\n",
       "      <td>1</td>\n",
       "      <td>0</td>\n",
       "      <td>3</td>\n",
       "      <td>0</td>\n",
       "      <td>1</td>\n",
       "      <td>1</td>\n",
       "      <td>1</td>\n",
       "      <td>0</td>\n",
       "      <td>0</td>\n",
       "    </tr>\n",
       "    <tr>\n",
       "      <td>1</td>\n",
       "      <td>249.0</td>\n",
       "      <td>127.0</td>\n",
       "      <td>2</td>\n",
       "      <td>3.21</td>\n",
       "      <td>3.0796</td>\n",
       "      <td>3.0699</td>\n",
       "      <td>1</td>\n",
       "      <td>1</td>\n",
       "      <td>3</td>\n",
       "      <td>1</td>\n",
       "      <td>1</td>\n",
       "      <td>2</td>\n",
       "      <td>1</td>\n",
       "      <td>1</td>\n",
       "      <td>0</td>\n",
       "    </tr>\n",
       "    <tr>\n",
       "      <td>2</td>\n",
       "      <td>47.0</td>\n",
       "      <td>147.0</td>\n",
       "      <td>4</td>\n",
       "      <td>4.65</td>\n",
       "      <td>3.0555</td>\n",
       "      <td>3.0720</td>\n",
       "      <td>3</td>\n",
       "      <td>1</td>\n",
       "      <td>4</td>\n",
       "      <td>2</td>\n",
       "      <td>2</td>\n",
       "      <td>4</td>\n",
       "      <td>1</td>\n",
       "      <td>1</td>\n",
       "      <td>1</td>\n",
       "    </tr>\n",
       "  </tbody>\n",
       "</table>\n",
       "</div>"
      ],
      "text/plain": [
       "    CCS     SO   CMT   CEL    ECS     ESO    SOc   ISOL  TINFc  QM  QMc  QMc2  \\\n",
       "0   21.0   79.0    2  4.23  3.0439  3.0630      1     0      3   0    1     1   \n",
       "1  249.0  127.0    2  3.21  3.0796  3.0699      1     1      3   1    1     2   \n",
       "2   47.0  147.0    4  4.65  3.0555  3.0720      3     1      4   2    2     4   \n",
       "\n",
       "   TINF - Agente 1  TINF - Agente 2  TINF - Agente 3  \n",
       "0                1                0                0  \n",
       "1                1                1                0  \n",
       "2                1                1                1  "
      ]
     },
     "execution_count": 39,
     "metadata": {},
     "output_type": "execute_result"
    }
   ],
   "source": [
    "x.head(3)"
   ]
  },
  {
   "cell_type": "code",
   "execution_count": 40,
   "metadata": {},
   "outputs": [],
   "source": [
    "y = df['IMM']"
   ]
  },
  {
   "cell_type": "code",
   "execution_count": 41,
   "metadata": {},
   "outputs": [
    {
     "data": {
      "text/plain": [
       "0    0\n",
       "1    0\n",
       "2    0\n",
       "Name: IMM, dtype: int64"
      ]
     },
     "execution_count": 41,
     "metadata": {},
     "output_type": "execute_result"
    }
   ],
   "source": [
    "y.head(3)"
   ]
  },
  {
   "cell_type": "markdown",
   "metadata": {},
   "source": [
    "### Support Vector Classifier"
   ]
  },
  {
   "cell_type": "code",
   "execution_count": 42,
   "metadata": {},
   "outputs": [],
   "source": [
    "svc_clf = SVC(kernel='poly',gamma='scale')"
   ]
  },
  {
   "cell_type": "code",
   "execution_count": 43,
   "metadata": {},
   "outputs": [],
   "source": [
    "svc_scores = cross_val_score(svc_clf, x, y, cv=10)"
   ]
  },
  {
   "cell_type": "code",
   "execution_count": 44,
   "metadata": {},
   "outputs": [
    {
     "data": {
      "text/plain": [
       "'Acuidade = 0.6875 (+/- 0.0227)'"
      ]
     },
     "execution_count": 44,
     "metadata": {},
     "output_type": "execute_result"
    }
   ],
   "source": [
    "'Acuidade = %0.4f (+/- %0.4f)' % (svc_scores.mean(),svc_scores.std() * 2)"
   ]
  },
  {
   "cell_type": "markdown",
   "metadata": {},
   "source": [
    "### k-Nearest Neighbors Classifier"
   ]
  },
  {
   "cell_type": "code",
   "execution_count": 45,
   "metadata": {},
   "outputs": [],
   "source": [
    "knn_clf = KNeighborsClassifier(n_neighbors=5)"
   ]
  },
  {
   "cell_type": "code",
   "execution_count": 46,
   "metadata": {},
   "outputs": [],
   "source": [
    "knn_scores = cross_val_score(knn_clf,x,y,cv=10)"
   ]
  },
  {
   "cell_type": "code",
   "execution_count": 47,
   "metadata": {},
   "outputs": [
    {
     "data": {
      "text/plain": [
       "'Acuidade = 0.6589 (+/- 0.1519)'"
      ]
     },
     "execution_count": 47,
     "metadata": {},
     "output_type": "execute_result"
    }
   ],
   "source": [
    "'Acuidade = %0.4f (+/- %0.4f)' % (knn_scores.mean(),knn_scores.std() * 2)"
   ]
  },
  {
   "cell_type": "markdown",
   "metadata": {},
   "source": [
    "### Gaussian Naive Bayes Classifier"
   ]
  },
  {
   "cell_type": "code",
   "execution_count": 48,
   "metadata": {},
   "outputs": [],
   "source": [
    "nb_clf = GaussianNB()"
   ]
  },
  {
   "cell_type": "code",
   "execution_count": 49,
   "metadata": {},
   "outputs": [],
   "source": [
    "nb_scores = cross_val_score(nb_clf,x,y,cv=10)"
   ]
  },
  {
   "cell_type": "code",
   "execution_count": 50,
   "metadata": {},
   "outputs": [
    {
     "data": {
      "text/plain": [
       "'Acuidade = 1.0000 (+/- 0.0000)'"
      ]
     },
     "execution_count": 50,
     "metadata": {},
     "output_type": "execute_result"
    }
   ],
   "source": [
    "'Acuidade = %0.4f (+/- %0.4f)' % (nb_scores.mean(),nb_scores.std() * 2)"
   ]
  },
  {
   "cell_type": "markdown",
   "metadata": {},
   "source": [
    "### Multi-layer Perceptron Classifier"
   ]
  },
  {
   "cell_type": "code",
   "execution_count": 51,
   "metadata": {},
   "outputs": [],
   "source": [
    "mlp_clf = MLPClassifier()"
   ]
  },
  {
   "cell_type": "code",
   "execution_count": 52,
   "metadata": {},
   "outputs": [],
   "source": [
    "mlp_scores = cross_val_score(mlp_clf,x,y,cv=10)"
   ]
  },
  {
   "cell_type": "code",
   "execution_count": 53,
   "metadata": {},
   "outputs": [
    {
     "data": {
      "text/plain": [
       "'Acuidade = 0.8690 (+/- 0.1733)'"
      ]
     },
     "execution_count": 53,
     "metadata": {},
     "output_type": "execute_result"
    }
   ],
   "source": [
    "'Acuidade = %0.4f (+/- %0.4f)' % (mlp_scores.mean(),mlp_scores.std() * 2)"
   ]
  },
  {
   "cell_type": "markdown",
   "metadata": {},
   "source": [
    "### Decision Tree Classifier"
   ]
  },
  {
   "cell_type": "code",
   "execution_count": 54,
   "metadata": {},
   "outputs": [],
   "source": [
    "dt_clf = DecisionTreeClassifier()"
   ]
  },
  {
   "cell_type": "code",
   "execution_count": 55,
   "metadata": {},
   "outputs": [],
   "source": [
    "dt_scores = cross_val_score(dt_clf,x,y,cv=10)"
   ]
  },
  {
   "cell_type": "code",
   "execution_count": 56,
   "metadata": {},
   "outputs": [
    {
     "data": {
      "text/plain": [
       "'Acuidade = 1.0000 (+/- 0.0000)'"
      ]
     },
     "execution_count": 56,
     "metadata": {},
     "output_type": "execute_result"
    }
   ],
   "source": [
    "'Acuidade = %0.4f (+/- %0.4f)' % (dt_scores.mean(),dt_scores.std() * 2)"
   ]
  }
 ],
 "metadata": {
  "kernelspec": {
   "display_name": "Python 3",
   "language": "python",
   "name": "python3"
  },
  "language_info": {
   "codemirror_mode": {
    "name": "ipython",
    "version": 3
   },
   "file_extension": ".py",
   "mimetype": "text/x-python",
   "name": "python",
   "nbconvert_exporter": "python",
   "pygments_lexer": "ipython3",
   "version": "3.7.4"
  }
 },
 "nbformat": 4,
 "nbformat_minor": 2
}
